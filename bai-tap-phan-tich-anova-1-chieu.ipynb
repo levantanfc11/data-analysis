{
 "cells": [
  {
   "cell_type": "code",
   "execution_count": 23,
   "metadata": {},
   "outputs": [],
   "source": [
    "import pandas as pd\n",
    "import numpy as np\n",
    "from scipy import stats"
   ]
  },
  {
   "cell_type": "code",
   "execution_count": 24,
   "metadata": {},
   "outputs": [
    {
     "name": "stdout",
     "output_type": "stream",
     "text": [
      "*** No CODEPAGE record, no encoding_override: will use 'ascii'\n"
     ]
    },
    {
     "data": {
      "text/html": [
       "<div>\n",
       "<style scoped>\n",
       "    .dataframe tbody tr th:only-of-type {\n",
       "        vertical-align: middle;\n",
       "    }\n",
       "\n",
       "    .dataframe tbody tr th {\n",
       "        vertical-align: top;\n",
       "    }\n",
       "\n",
       "    .dataframe thead th {\n",
       "        text-align: right;\n",
       "    }\n",
       "</style>\n",
       "<table border=\"1\" class=\"dataframe\">\n",
       "  <thead>\n",
       "    <tr style=\"text-align: right;\">\n",
       "      <th></th>\n",
       "      <th>X1</th>\n",
       "      <th>X2</th>\n",
       "      <th>X3</th>\n",
       "      <th>X4</th>\n",
       "    </tr>\n",
       "  </thead>\n",
       "  <tbody>\n",
       "    <tr>\n",
       "      <th>0</th>\n",
       "      <td>93</td>\n",
       "      <td>85.0</td>\n",
       "      <td>100.0</td>\n",
       "      <td>96.0</td>\n",
       "    </tr>\n",
       "    <tr>\n",
       "      <th>1</th>\n",
       "      <td>120</td>\n",
       "      <td>45.0</td>\n",
       "      <td>75.0</td>\n",
       "      <td>58.0</td>\n",
       "    </tr>\n",
       "    <tr>\n",
       "      <th>2</th>\n",
       "      <td>65</td>\n",
       "      <td>80.0</td>\n",
       "      <td>65.0</td>\n",
       "      <td>95.0</td>\n",
       "    </tr>\n",
       "    <tr>\n",
       "      <th>3</th>\n",
       "      <td>105</td>\n",
       "      <td>28.0</td>\n",
       "      <td>40.0</td>\n",
       "      <td>90.0</td>\n",
       "    </tr>\n",
       "    <tr>\n",
       "      <th>4</th>\n",
       "      <td>115</td>\n",
       "      <td>75.0</td>\n",
       "      <td>73.0</td>\n",
       "      <td>65.0</td>\n",
       "    </tr>\n",
       "  </tbody>\n",
       "</table>\n",
       "</div>"
      ],
      "text/plain": [
       "    X1    X2     X3    X4\n",
       "0   93  85.0  100.0  96.0\n",
       "1  120  45.0   75.0  58.0\n",
       "2   65  80.0   65.0  95.0\n",
       "3  105  28.0   40.0  90.0\n",
       "4  115  75.0   73.0  65.0"
      ]
     },
     "execution_count": 24,
     "metadata": {},
     "output_type": "execute_result"
    }
   ],
   "source": [
    "df_1 = pd.read_excel('owan01.xls')\n",
    "df_1.head()"
   ]
  },
  {
   "cell_type": "code",
   "execution_count": 25,
   "metadata": {},
   "outputs": [],
   "source": [
    "x1 = df_1['X1'].to_numpy()\n",
    "x2 = df_1['X2'].to_numpy()\n",
    "x3 = df_1['X3'].to_numpy()\n",
    "x4 = df_1['X4'].to_numpy()"
   ]
  },
  {
   "cell_type": "code",
   "execution_count": 40,
   "metadata": {},
   "outputs": [],
   "source": [
    "\n",
    "def anova(a, b, c, d):\n",
    "    print(\"Kiểm định ANOVA:\")\n",
    "    stat, pvalue = stats.f_oneway(a, b, c, d)\n",
    "    print(\"Stat =\", stat, \"\\n\", \"p value =\", pvalue)\n",
    "    if pvalue < 0.05:\n",
    "        print(\"Có bằng chứng để bác bỏ giả thuyết H0\")\n",
    "    else:\n",
    "        print(\"Chưa có bằng chứng để bác bỏ giả thuyết H0\")\n",
    "\n",
    "\n",
    "def anova1(a, b, c, d, e):\n",
    "    print(\"Kiểm định ANOVA:\")\n",
    "    stat, pvalue = stats.f_oneway(a, b, c, d, e)\n",
    "    print(\"Stat =\", stat, \"\\n\", \"p value =\", pvalue)\n",
    "    if pvalue < 0.05:\n",
    "        print(\"Có bằng chứng để bác bỏ giả thuyết H0\")\n",
    "    else:\n",
    "        print(\"Chưa có bằng chứng để bác bỏ giả thuyết H0\")"
   ]
  },
  {
   "cell_type": "code",
   "execution_count": 41,
   "metadata": {},
   "outputs": [
    {
     "name": "stdout",
     "output_type": "stream",
     "text": [
      "Câu 1: Excavation Depth and Archaeology\n"
     ]
    }
   ],
   "source": [
    "print(\"Câu 1: Excavation Depth and Archaeology\")"
   ]
  },
  {
   "cell_type": "code",
   "execution_count": 42,
   "metadata": {},
   "outputs": [
    {
     "name": "stdout",
     "output_type": "stream",
     "text": [
      "Kiểm tra phân phối chuẩn của X1:\n",
      "Không thể bác bỏ giả thiết H0: Phân phối của dữ liệu là chuẩn\n",
      "~~~~~~~~~~~~~~~~~~~~~~~~~~~~~~~~~~~~~~~~~~~~~~~~~~~~~~~~~~~~~~~~~~~~~~~~~~\n",
      "Kiểm tra phân phối chuẩn của X2:\n",
      "Không thể bác bỏ giả thiết H0: Phân phối của dữ liệu là chuẩn\n",
      "~~~~~~~~~~~~~~~~~~~~~~~~~~~~~~~~~~~~~~~~~~~~~~~~~~~~~~~~~~~~~~~~~~~~~~~~~~\n",
      "Kiểm tra phân phối chuẩn của X3:\n",
      "Không thể bác bỏ giả thiết H0: Phân phối của dữ liệu là chuẩn\n",
      "~~~~~~~~~~~~~~~~~~~~~~~~~~~~~~~~~~~~~~~~~~~~~~~~~~~~~~~~~~~~~~~~~~~~~~~~~~\n",
      "Kiểm tra phân phối chuẩn của X4:\n",
      "Không thể bác bỏ giả thiết H0: Phân phối của dữ liệu là chuẩn\n"
     ]
    }
   ],
   "source": [
    "#sử dụng shapiro để kiểm tra phân phối chuẩn\n",
    "from scipy.stats import shapiro\n",
    "stat_1, p_1 = shapiro(df_1['X1'])\n",
    "print(\"Kiểm tra phân phối chuẩn của X1:\")\n",
    "if p_1 > 0.05:\n",
    "    print('Không thể bác bỏ giả thiết H0: Phân phối của dữ liệu là chuẩn')\n",
    "else:\n",
    "    print('Dữ liệu không tuân theo luật phân phối chuẩn')\n",
    "print(\"~~~~~~~~~~~~~~~~~~~~~~~~~~~~~~~~~~~~~~~~~~~~~~~~~~~~~~~~~~~~~~~~~~~~~~~~~~\")\n",
    "\n",
    "stat1, p1 = shapiro(df_1['X2'])\n",
    "print(\"Kiểm tra phân phối chuẩn của X2:\")\n",
    "if p1 > 0.05:\n",
    "    print('Không thể bác bỏ giả thiết H0: Phân phối của dữ liệu là chuẩn')\n",
    "else:\n",
    "    print('Dữ liệu không tuân theo luật phân phối chuẩn')\n",
    "print(\"~~~~~~~~~~~~~~~~~~~~~~~~~~~~~~~~~~~~~~~~~~~~~~~~~~~~~~~~~~~~~~~~~~~~~~~~~~\")\n",
    "\n",
    "stat2, p2 = shapiro(df_1['X3'])\n",
    "print(\"Kiểm tra phân phối chuẩn của X3:\")\n",
    "if p2 > 0.05:\n",
    "    print('Không thể bác bỏ giả thiết H0: Phân phối của dữ liệu là chuẩn')\n",
    "else:\n",
    "    print('Dữ liệu không tuân theo luật phân phối chuẩn')\n",
    "print(\"~~~~~~~~~~~~~~~~~~~~~~~~~~~~~~~~~~~~~~~~~~~~~~~~~~~~~~~~~~~~~~~~~~~~~~~~~~\")\n",
    "stat3, p3 = shapiro(df_1['X4'])\n",
    "print(\"Kiểm tra phân phối chuẩn của X4:\")\n",
    "if p3 > 0.05:\n",
    "    print('Không thể bác bỏ giả thiết H0: Phân phối của dữ liệu là chuẩn')\n",
    "else:\n",
    "    print('Dữ liệu không tuân theo luật phân phối chuẩn')"
   ]
  },
  {
   "cell_type": "code",
   "execution_count": 43,
   "metadata": {},
   "outputs": [
    {
     "name": "stdout",
     "output_type": "stream",
     "text": [
      "Kiểm tra phân phối chuẩn của X1:\n",
      "stat=0.097, p=0.996\n",
      "Không thể bác bỏ giả thiết H0: Phân phối của dữ liệu là chuẩn\n",
      "~~~~~~~~~~~~~~~~~~~~~~~~~~~~~~~~~~~~~~~~~~~~~~~~~~~~~~~~~~~~~~~~~~~~~~~~~~\n",
      "Kiểm tra phân phối chuẩn của X2:\n",
      "stat=nan, p=nan\n",
      "Dữ liệu không tuân theo luật phân phối chuẩn\n",
      "~~~~~~~~~~~~~~~~~~~~~~~~~~~~~~~~~~~~~~~~~~~~~~~~~~~~~~~~~~~~~~~~~~~~~~~~~~\n",
      "Kiểm tra phân phối chuẩn của X3:\n",
      "stat=nan, p=nan\n",
      "Dữ liệu không tuân theo luật phân phối chuẩn\n",
      "~~~~~~~~~~~~~~~~~~~~~~~~~~~~~~~~~~~~~~~~~~~~~~~~~~~~~~~~~~~~~~~~~~~~~~~~~~\n",
      "Kiểm tra phân phối chuẩn của X4\n",
      "stat=nan, p=nan\n",
      "Dữ liệu không tuân theo luật phân phối chuẩn\n"
     ]
    }
   ],
   "source": [
    "#dùng kolmogorov test kiểm tra phân phối chuẩn\n",
    "mean_x1 = df_1['X1'].mean()\n",
    "std_x1 = df_1['X1'].std()\n",
    "kq_1 = (df_1['X1'] - mean_x1) / std_x1\n",
    "\n",
    "from scipy.stats import kstest\n",
    "stat3, p3 = kstest(kq_1, 'norm')\n",
    "print(\"Kiểm tra phân phối chuẩn của X1:\")\n",
    "print('stat=%.3f, p=%.3f' % (stat3, p3))\n",
    "if p3 > 0.05:\n",
    "    print('Không thể bác bỏ giả thiết H0: Phân phối của dữ liệu là chuẩn')\n",
    "else:\n",
    "    print('Dữ liệu không tuân theo luật phân phối chuẩn')\n",
    "print(\"~~~~~~~~~~~~~~~~~~~~~~~~~~~~~~~~~~~~~~~~~~~~~~~~~~~~~~~~~~~~~~~~~~~~~~~~~~\")\n",
    "mean_x2 = df_1['X2'].mean()\n",
    "std_x2 = df_1['X2'].std()\n",
    "kq_2 = (df_1['X2'] - mean_x2) / std_x2\n",
    "\n",
    "stat4, p4 = kstest(kq_2, 'norm')\n",
    "print(\"Kiểm tra phân phối chuẩn của X2:\")\n",
    "print('stat=%.3f, p=%.3f' % (stat4, p4))\n",
    "if p4 > 0.05:\n",
    "    print('Không thể bác bỏ giả thiết H0: Phân phối của dữ liệu là chuẩn')\n",
    "else:\n",
    "    print('Dữ liệu không tuân theo luật phân phối chuẩn')\n",
    "print(\"~~~~~~~~~~~~~~~~~~~~~~~~~~~~~~~~~~~~~~~~~~~~~~~~~~~~~~~~~~~~~~~~~~~~~~~~~~\")\n",
    "mean_x3 = df_1['X3'].mean()\n",
    "std_x3 = df_1['X3'].std()\n",
    "kq_3 = (df_1['X3'] - mean_x3) / std_x3\n",
    "\n",
    "stat5, p5 = kstest(kq_3, 'norm')\n",
    "print(\"Kiểm tra phân phối chuẩn của X3:\")\n",
    "print('stat=%.3f, p=%.3f' % (stat5, p5))\n",
    "if p5 > 0.05:\n",
    "    print('Không thể bác bỏ giả thiết H0: Phân phối của dữ liệu là chuẩn')\n",
    "else:\n",
    "    print('Dữ liệu không tuân theo luật phân phối chuẩn')\n",
    "print(\"~~~~~~~~~~~~~~~~~~~~~~~~~~~~~~~~~~~~~~~~~~~~~~~~~~~~~~~~~~~~~~~~~~~~~~~~~~\")\n",
    "mean_x4 = df_1['X4'].mean()\n",
    "std_x4 = df_1['X4'].std()\n",
    "kq_4 = (df_1['X4'] - mean_x4) / std_x4\n",
    "\n",
    "stat6, p6 = kstest(kq_4, 'norm')\n",
    "print(\"Kiểm tra phân phối chuẩn của X4\")\n",
    "print('stat=%.3f, p=%.3f' % (stat6, p6)\n",
    "if p6 > 0.05:\n",
    "    print('Không thể bác bỏ giả thiết H0: Phân phối của dữ liệu là chuẩn')\n",
    "else:\n",
    "    print('Dữ liệu không tuân theo luật phân phối chuẩn')"
   ]
  },
  {
   "cell_type": "code",
   "execution_count": 44,
   "metadata": {},
   "outputs": [
    {
     "name": "stdout",
     "output_type": "stream",
     "text": [
      "Statistic = 2.440153553631599 \n",
      " p_value = 0.48620382137845997\n",
      "Các feature đều có phương sai đồng nhất\n"
     ]
    }
   ],
   "source": [
    "#Dùng kiểm định Bartlett để kiểm tra tính thuần nhất của các features.\n",
    "from scipy.stats import bartlett\n",
    "stat7, p7 = bartlett(df_1['X1'], df_1['X2'], df_1['X3'], df_1['X4'])\n",
    "print(\"Statistic =\", stat7, \"\\n\",\n",
    "          \"p_value =\", p7)\n",
    "\n",
    "if p7 > 0.05:\n",
    "    print('Các feature đều có phương sai đồng nhất')\n",
    "else:\n",
    "    print('Tức là các feature không đồng nhất về phương sai.')\n"
   ]
  },
  {
   "cell_type": "code",
   "execution_count": 45,
   "metadata": {},
   "outputs": [
    {
     "name": "stdout",
     "output_type": "stream",
     "text": [
      "Kiểm định ANOVA:\n",
      "Stat = nan \n",
      " p value = nan\n",
      "Chưa có bằng chứng để bác bỏ giả thuyết H0\n",
      "None\n"
     ]
    }
   ],
   "source": [
    "print(anova(x1, x2, x3, x4))"
   ]
  },
  {
   "cell_type": "code",
   "execution_count": 52,
   "metadata": {},
   "outputs": [
    {
     "name": "stdout",
     "output_type": "stream",
     "text": [
      "Câu 2:Apple Orchard Experiment\n"
     ]
    }
   ],
   "source": [
    "print(\"Câu 2:Apple Orchard Experiment\")"
   ]
  },
  {
   "cell_type": "code",
   "execution_count": 46,
   "metadata": {},
   "outputs": [
    {
     "name": "stdout",
     "output_type": "stream",
     "text": [
      "*** No CODEPAGE record, no encoding_override: will use 'ascii'\n"
     ]
    },
    {
     "data": {
      "text/html": [
       "<div>\n",
       "<style scoped>\n",
       "    .dataframe tbody tr th:only-of-type {\n",
       "        vertical-align: middle;\n",
       "    }\n",
       "\n",
       "    .dataframe tbody tr th {\n",
       "        vertical-align: top;\n",
       "    }\n",
       "\n",
       "    .dataframe thead th {\n",
       "        text-align: right;\n",
       "    }\n",
       "</style>\n",
       "<table border=\"1\" class=\"dataframe\">\n",
       "  <thead>\n",
       "    <tr style=\"text-align: right;\">\n",
       "      <th></th>\n",
       "      <th>X1</th>\n",
       "      <th>X2</th>\n",
       "      <th>X3</th>\n",
       "      <th>X4</th>\n",
       "      <th>X5</th>\n",
       "    </tr>\n",
       "  </thead>\n",
       "  <tbody>\n",
       "    <tr>\n",
       "      <th>0</th>\n",
       "      <td>2569</td>\n",
       "      <td>2074</td>\n",
       "      <td>2505</td>\n",
       "      <td>2838</td>\n",
       "      <td>1532</td>\n",
       "    </tr>\n",
       "    <tr>\n",
       "      <th>1</th>\n",
       "      <td>2928</td>\n",
       "      <td>2885</td>\n",
       "      <td>2315</td>\n",
       "      <td>2351</td>\n",
       "      <td>2552</td>\n",
       "    </tr>\n",
       "    <tr>\n",
       "      <th>2</th>\n",
       "      <td>2865</td>\n",
       "      <td>3378</td>\n",
       "      <td>2667</td>\n",
       "      <td>3001</td>\n",
       "      <td>3083</td>\n",
       "    </tr>\n",
       "    <tr>\n",
       "      <th>3</th>\n",
       "      <td>3844</td>\n",
       "      <td>3906</td>\n",
       "      <td>2390</td>\n",
       "      <td>2439</td>\n",
       "      <td>2330</td>\n",
       "    </tr>\n",
       "    <tr>\n",
       "      <th>4</th>\n",
       "      <td>3027</td>\n",
       "      <td>2782</td>\n",
       "      <td>3021</td>\n",
       "      <td>2199</td>\n",
       "      <td>2079</td>\n",
       "    </tr>\n",
       "  </tbody>\n",
       "</table>\n",
       "</div>"
      ],
      "text/plain": [
       "     X1    X2    X3    X4    X5\n",
       "0  2569  2074  2505  2838  1532\n",
       "1  2928  2885  2315  2351  2552\n",
       "2  2865  3378  2667  3001  3083\n",
       "3  3844  3906  2390  2439  2330\n",
       "4  3027  2782  3021  2199  2079"
      ]
     },
     "execution_count": 46,
     "metadata": {},
     "output_type": "execute_result"
    }
   ],
   "source": [
    "df_2 = pd.read_excel('owan02.xls')\n",
    "df_2.head()"
   ]
  },
  {
   "cell_type": "code",
   "execution_count": 47,
   "metadata": {},
   "outputs": [],
   "source": [
    "x1_c2 = df_2['X1'].to_numpy()\n",
    "x2_c2 = df_2['X2'].to_numpy()\n",
    "x3_c2 = df_2['X3'].to_numpy()\n",
    "x4_c2 = df_2['X4'].to_numpy()\n",
    "x5_c2 = df_2['X5'].to_numpy()"
   ]
  },
  {
   "cell_type": "code",
   "execution_count": 48,
   "metadata": {},
   "outputs": [
    {
     "name": "stdout",
     "output_type": "stream",
     "text": [
      "Kiểm tra phân phối chuẩn của X1:\n",
      "Không thể bác bỏ giả thiết H0: Phân phối của dữ liệu là chuẩn\n",
      "~~~~~~~~~~~~~~~~~~~~~~~~~~~~~~~~~~~~~~~~~~~~~~~~~~~~~~~~~~~~~~~~~~~~~~~~~~\n",
      "Kiểm tra phân phối chuẩn của X2:\n",
      "Không thể bác bỏ giả thiết H0: Phân phối của dữ liệu là chuẩn\n",
      "~~~~~~~~~~~~~~~~~~~~~~~~~~~~~~~~~~~~~~~~~~~~~~~~~~~~~~~~~~~~~~~~~~~~~~~~~~\n",
      "Kiểm tra phân phối chuẩn của X3:\n",
      "Không thể bác bỏ giả thiết H0: Phân phối của dữ liệu là chuẩn\n",
      "~~~~~~~~~~~~~~~~~~~~~~~~~~~~~~~~~~~~~~~~~~~~~~~~~~~~~~~~~~~~~~~~~~~~~~~~~~\n",
      "Kiểm tra phân phối chuẩn của X4:\n",
      "Không thể bác bỏ giả thiết H0: Phân phối của dữ liệu là chuẩn\n",
      "~~~~~~~~~~~~~~~~~~~~~~~~~~~~~~~~~~~~~~~~~~~~~~~~~~~~~~~~~~~~~~~~~~~~~~~~~~\n",
      "Kiểm tra phân phối chuẩn của X5:\n",
      "Không thể bác bỏ giả thiết H0: Phân phối của dữ liệu là chuẩn\n"
     ]
    }
   ],
   "source": [
    "#sử dụng shapiro để kiểm tra phân phối chuẩn\n",
    "from scipy.stats import shapiro\n",
    "stat_2, p_2 = shapiro(df_2['X1'])\n",
    "print(\"Kiểm tra phân phối chuẩn của X1:\")\n",
    "if p_2 > 0.05:\n",
    "    print('Không thể bác bỏ giả thiết H0: Phân phối của dữ liệu là chuẩn')\n",
    "else:\n",
    "    print('Dữ liệu không tuân theo luật phân phối chuẩn')\n",
    "print(\"~~~~~~~~~~~~~~~~~~~~~~~~~~~~~~~~~~~~~~~~~~~~~~~~~~~~~~~~~~~~~~~~~~~~~~~~~~\")\n",
    "\n",
    "stat1_1, p1_1 = shapiro(df_2['X2'])\n",
    "print(\"Kiểm tra phân phối chuẩn của X2:\")\n",
    "if p1_1 > 0.05:\n",
    "    print('Không thể bác bỏ giả thiết H0: Phân phối của dữ liệu là chuẩn')\n",
    "else:\n",
    "    print('Dữ liệu không tuân theo luật phân phối chuẩn')\n",
    "print(\"~~~~~~~~~~~~~~~~~~~~~~~~~~~~~~~~~~~~~~~~~~~~~~~~~~~~~~~~~~~~~~~~~~~~~~~~~~\")\n",
    "\n",
    "stat2_1, p2_1 = shapiro(df_2['X3'])\n",
    "print(\"Kiểm tra phân phối chuẩn của X3:\")\n",
    "if p2_1 > 0.05:\n",
    "    print('Không thể bác bỏ giả thiết H0: Phân phối của dữ liệu là chuẩn')\n",
    "else:\n",
    "    print('Dữ liệu không tuân theo luật phân phối chuẩn')\n",
    "print(\"~~~~~~~~~~~~~~~~~~~~~~~~~~~~~~~~~~~~~~~~~~~~~~~~~~~~~~~~~~~~~~~~~~~~~~~~~~\")\n",
    "stat3_1, p3_1 = shapiro(df_2['X4'])\n",
    "print(\"Kiểm tra phân phối chuẩn của X4:\")\n",
    "if p3_1 > 0.05:\n",
    "    print('Không thể bác bỏ giả thiết H0: Phân phối của dữ liệu là chuẩn')\n",
    "else:\n",
    "    print('Dữ liệu không tuân theo luật phân phối chuẩn')\n",
    "print(\"~~~~~~~~~~~~~~~~~~~~~~~~~~~~~~~~~~~~~~~~~~~~~~~~~~~~~~~~~~~~~~~~~~~~~~~~~~\")\n",
    "stat4_1, p4_1 = shapiro(df_2['X5'])\n",
    "print(\"Kiểm tra phân phối chuẩn của X5:\")\n",
    "if p4_1 > 0.05:\n",
    "    print('Không thể bác bỏ giả thiết H0: Phân phối của dữ liệu là chuẩn')\n",
    "else:\n",
    "    print('Dữ liệu không tuân theo luật phân phối chuẩn')"
   ]
  },
  {
   "cell_type": "code",
   "execution_count": 49,
   "metadata": {},
   "outputs": [
    {
     "name": "stdout",
     "output_type": "stream",
     "text": [
      "Kiểm tra phân phối chuẩn của X1:\n",
      "stat=0.197, p=0.861\n",
      "Không thể bác bỏ giả thiết H0: Phân phối của dữ liệu là chuẩn\n",
      "~~~~~~~~~~~~~~~~~~~~~~~~~~~~~~~~~~~~~~~~~~~~~~~~~~~~~~~~~~~~~~~~~~~~~~~~~~\n",
      "Kiểm tra phân phối chuẩn của X2:\n",
      "stat=0.187, p=0.897\n",
      "Không thể bác bỏ giả thiết H0: Phân phối của dữ liệu là chuẩn\n",
      "~~~~~~~~~~~~~~~~~~~~~~~~~~~~~~~~~~~~~~~~~~~~~~~~~~~~~~~~~~~~~~~~~~~~~~~~~~\n",
      "Kiểm tra phân phối chuẩn của X3:\n",
      "stat=0.200, p=0.849\n",
      "Không thể bác bỏ giả thiết H0: Phân phối của dữ liệu là chuẩn\n",
      "~~~~~~~~~~~~~~~~~~~~~~~~~~~~~~~~~~~~~~~~~~~~~~~~~~~~~~~~~~~~~~~~~~~~~~~~~~\n",
      "Kiểm tra phân phối chuẩn của X4\n",
      "stat=0.180, p=0.918\n",
      "Không thể bác bỏ giả thiết H0: Phân phối của dữ liệu là chuẩn\n",
      "~~~~~~~~~~~~~~~~~~~~~~~~~~~~~~~~~~~~~~~~~~~~~~~~~~~~~~~~~~~~~~~~~~~~~~~~~~\n",
      "Kiểm tra phân phối chuẩn của X4\n",
      "stat=0.182, p=0.914\n",
      "Không thể bác bỏ giả thiết H0: Phân phối của dữ liệu là chuẩn\n"
     ]
    }
   ],
   "source": [
    "#dùng kolmogorov test kiểm tra phân phối chuẩn\n",
    "mean_x1 = df_2['X1'].mean()\n",
    "std_x1 = df_2['X1'].std()\n",
    "kq_1 = (df_2['X1'] - mean_x1) / std_x1\n",
    "\n",
    "from scipy.stats import kstest\n",
    "stat3, p3 = kstest(kq_1, 'norm')\n",
    "print(\"Kiểm tra phân phối chuẩn của X1:\")\n",
    "print('stat=%.3f, p=%.3f' % (stat3, p3))\n",
    "if p3 > 0.05:\n",
    "    print('Không thể bác bỏ giả thiết H0: Phân phối của dữ liệu là chuẩn')\n",
    "else:\n",
    "    print('Dữ liệu không tuân theo luật phân phối chuẩn')\n",
    "print(\"~~~~~~~~~~~~~~~~~~~~~~~~~~~~~~~~~~~~~~~~~~~~~~~~~~~~~~~~~~~~~~~~~~~~~~~~~~\")\n",
    "mean_x2 = df_2['X2'].mean()\n",
    "std_x2 = df_2['X2'].std()\n",
    "kq_2 = (df_2['X2'] - mean_x2) / std_x2\n",
    "\n",
    "stat4, p4 = kstest(kq_2, 'norm')\n",
    "print(\"Kiểm tra phân phối chuẩn của X2:\")\n",
    "print('stat=%.3f, p=%.3f' % (stat4, p4))\n",
    "if p4 > 0.05:\n",
    "    print('Không thể bác bỏ giả thiết H0: Phân phối của dữ liệu là chuẩn')\n",
    "else:\n",
    "    print('Dữ liệu không tuân theo luật phân phối chuẩn')\n",
    "print(\"~~~~~~~~~~~~~~~~~~~~~~~~~~~~~~~~~~~~~~~~~~~~~~~~~~~~~~~~~~~~~~~~~~~~~~~~~~\")\n",
    "mean_x3 = df_2['X3'].mean()\n",
    "std_x3 = df_2['X3'].std()\n",
    "kq_3 = (df_2['X3'] - mean_x3) / std_x3\n",
    "\n",
    "stat5, p5 = kstest(kq_3, 'norm')\n",
    "print(\"Kiểm tra phân phối chuẩn của X3:\")\n",
    "print('stat=%.3f, p=%.3f' % (stat5, p5))\n",
    "if p5 > 0.05:\n",
    "    print('Không thể bác bỏ giả thiết H0: Phân phối của dữ liệu là chuẩn')\n",
    "else:\n",
    "    print('Dữ liệu không tuân theo luật phân phối chuẩn')\n",
    "print(\"~~~~~~~~~~~~~~~~~~~~~~~~~~~~~~~~~~~~~~~~~~~~~~~~~~~~~~~~~~~~~~~~~~~~~~~~~~\")\n",
    "mean_x4 = df_2['X4'].mean()\n",
    "std_x4 = df_2['X4'].std()\n",
    "kq_4 = (df_2['X4'] - mean_x4) / std_x4\n",
    "\n",
    "stat6, p6 = kstest(kq_4, 'norm')\n",
    "print(\"Kiểm tra phân phối chuẩn của X4\")\n",
    "print('stat=%.3f, p=%.3f' % (stat6, p6))\n",
    "if p6 > 0.05:\n",
    "    print('Không thể bác bỏ giả thiết H0: Phân phối của dữ liệu là chuẩn')\n",
    "else:\n",
    "    print('Dữ liệu không tuân theo luật phân phối chuẩn')\n",
    "print(\"~~~~~~~~~~~~~~~~~~~~~~~~~~~~~~~~~~~~~~~~~~~~~~~~~~~~~~~~~~~~~~~~~~~~~~~~~~\")\n",
    "mean_x5 = df_2['X5'].mean()\n",
    "std_x5 = df_2['X5'].std()\n",
    "kq_5 = (df_2['X5'] - mean_x5) / std_x5\n",
    "\n",
    "stat7, p7 = kstest(kq_5, 'norm')\n",
    "print(\"Kiểm tra phân phối chuẩn của X5\")\n",
    "print('stat=%.3f, p=%.3f' % (stat7, p7))\n",
    "if p7 > 0.05:\n",
    "    print('Không thể bác bỏ giả thiết H0: Phân phối của dữ liệu là chuẩn')\n",
    "else:\n",
    "    print('Dữ liệu không tuân theo luật phân phối chuẩn')\n",
    "    \n",
    "    "
   ]
  },
  {
   "cell_type": "code",
   "execution_count": 50,
   "metadata": {},
   "outputs": [
    {
     "name": "stdout",
     "output_type": "stream",
     "text": [
      "Statistic = 1.505379741017298 \n",
      " p_value = 0.825688088344803\n",
      "Các feature đều có phương sai đồng nhất\n"
     ]
    }
   ],
   "source": [
    "#Dùng kiểm định Bartlett để kiểm tra tính thuần nhất của các features.\n",
    "from scipy.stats import bartlett\n",
    "stat8, p8 = bartlett(df_2['X1'], df_2['X2'], df_2['X3'], df_2['X4'], df_2['X5'])\n",
    "print(\"Statistic =\", stat8, \"\\n\",\n",
    "          \"p_value =\", p8)\n",
    "\n",
    "if p8 > 0.05:\n",
    "    print('Các feature đều có phương sai đồng nhất')\n",
    "else:\n",
    "    print('Tức là các feature không đồng nhất về phương sai.')\n"
   ]
  },
  {
   "cell_type": "code",
   "execution_count": 51,
   "metadata": {},
   "outputs": [
    {
     "name": "stdout",
     "output_type": "stream",
     "text": [
      "Kiểm định ANOVA:\n",
      "Stat = 1.3142198672637213 \n",
      " p value = 0.28382583646160114\n",
      "Chưa có bằng chứng để bác bỏ giả thuyết H0\n",
      "None\n"
     ]
    }
   ],
   "source": [
    "print(anova1(x1_c2, x2_c2, x3_c2, x4_c2, x5_c2))"
   ]
  },
  {
   "cell_type": "code",
   "execution_count": 77,
   "metadata": {},
   "outputs": [
    {
     "name": "stdout",
     "output_type": "stream",
     "text": [
      "Câu 3:Red Dye Number 40\n"
     ]
    }
   ],
   "source": [
    "print(\"Câu 3:Red Dye Number 40\")"
   ]
  },
  {
   "cell_type": "code",
   "execution_count": 79,
   "metadata": {},
   "outputs": [
    {
     "name": "stdout",
     "output_type": "stream",
     "text": [
      "*** No CODEPAGE record, no encoding_override: will use 'ascii'\n"
     ]
    },
    {
     "data": {
      "text/html": [
       "<div>\n",
       "<style scoped>\n",
       "    .dataframe tbody tr th:only-of-type {\n",
       "        vertical-align: middle;\n",
       "    }\n",
       "\n",
       "    .dataframe tbody tr th {\n",
       "        vertical-align: top;\n",
       "    }\n",
       "\n",
       "    .dataframe thead th {\n",
       "        text-align: right;\n",
       "    }\n",
       "</style>\n",
       "<table border=\"1\" class=\"dataframe\">\n",
       "  <thead>\n",
       "    <tr style=\"text-align: right;\">\n",
       "      <th></th>\n",
       "      <th>X1</th>\n",
       "      <th>X2</th>\n",
       "      <th>X3</th>\n",
       "      <th>X4</th>\n",
       "    </tr>\n",
       "  </thead>\n",
       "  <tbody>\n",
       "    <tr>\n",
       "      <th>0</th>\n",
       "      <td>70</td>\n",
       "      <td>49.0</td>\n",
       "      <td>30.0</td>\n",
       "      <td>34.0</td>\n",
       "    </tr>\n",
       "    <tr>\n",
       "      <th>1</th>\n",
       "      <td>77</td>\n",
       "      <td>60.0</td>\n",
       "      <td>37.0</td>\n",
       "      <td>36.0</td>\n",
       "    </tr>\n",
       "    <tr>\n",
       "      <th>2</th>\n",
       "      <td>83</td>\n",
       "      <td>63.0</td>\n",
       "      <td>56.0</td>\n",
       "      <td>48.0</td>\n",
       "    </tr>\n",
       "    <tr>\n",
       "      <th>3</th>\n",
       "      <td>87</td>\n",
       "      <td>67.0</td>\n",
       "      <td>65.0</td>\n",
       "      <td>48.0</td>\n",
       "    </tr>\n",
       "    <tr>\n",
       "      <th>4</th>\n",
       "      <td>92</td>\n",
       "      <td>70.0</td>\n",
       "      <td>76.0</td>\n",
       "      <td>65.0</td>\n",
       "    </tr>\n",
       "  </tbody>\n",
       "</table>\n",
       "</div>"
      ],
      "text/plain": [
       "   X1    X2    X3    X4\n",
       "0  70  49.0  30.0  34.0\n",
       "1  77  60.0  37.0  36.0\n",
       "2  83  63.0  56.0  48.0\n",
       "3  87  67.0  65.0  48.0\n",
       "4  92  70.0  76.0  65.0"
      ]
     },
     "execution_count": 79,
     "metadata": {},
     "output_type": "execute_result"
    }
   ],
   "source": [
    "df_3 = pd.read_excel('owan03.xls')\n",
    "df_3.head()"
   ]
  },
  {
   "cell_type": "code",
   "execution_count": 80,
   "metadata": {},
   "outputs": [],
   "source": [
    "x1_c3 = df_3['X1'].to_numpy()\n",
    "x2_c3 = df_3['X2'].to_numpy()\n",
    "x3_c3 = df_3['X3'].to_numpy()\n",
    "x4_c3 = df_3['X4'].to_numpy()"
   ]
  },
  {
   "cell_type": "code",
   "execution_count": 81,
   "metadata": {},
   "outputs": [
    {
     "name": "stdout",
     "output_type": "stream",
     "text": [
      "Kiểm tra phân phối chuẩn của X1:\n",
      "Không thể bác bỏ giả thiết H0: Phân phối của dữ liệu là chuẩn\n",
      "~~~~~~~~~~~~~~~~~~~~~~~~~~~~~~~~~~~~~~~~~~~~~~~~~~~~~~~~~~~~~~~~~~~~~~~~~~\n",
      "Kiểm tra phân phối chuẩn của X2:\n",
      "Không thể bác bỏ giả thiết H0: Phân phối của dữ liệu là chuẩn\n",
      "~~~~~~~~~~~~~~~~~~~~~~~~~~~~~~~~~~~~~~~~~~~~~~~~~~~~~~~~~~~~~~~~~~~~~~~~~~\n",
      "Kiểm tra phân phối chuẩn của X3:\n",
      "Không thể bác bỏ giả thiết H0: Phân phối của dữ liệu là chuẩn\n",
      "~~~~~~~~~~~~~~~~~~~~~~~~~~~~~~~~~~~~~~~~~~~~~~~~~~~~~~~~~~~~~~~~~~~~~~~~~~\n",
      "Kiểm tra phân phối chuẩn của X4:\n",
      "Không thể bác bỏ giả thiết H0: Phân phối của dữ liệu là chuẩn\n"
     ]
    }
   ],
   "source": [
    "#sử dụng shapiro để kiểm tra phân phối chuẩn\n",
    "from scipy.stats import shapiro\n",
    "stat_1, p_1 = shapiro(df_3['X1'])\n",
    "print(\"Kiểm tra phân phối chuẩn của X1:\")\n",
    "if p_1 > 0.05:\n",
    "    print('Không thể bác bỏ giả thiết H0: Phân phối của dữ liệu là chuẩn')\n",
    "else:\n",
    "    print('Dữ liệu không tuân theo luật phân phối chuẩn')\n",
    "print(\"~~~~~~~~~~~~~~~~~~~~~~~~~~~~~~~~~~~~~~~~~~~~~~~~~~~~~~~~~~~~~~~~~~~~~~~~~~\")\n",
    "\n",
    "stat1, p1 = shapiro(df_3['X2'])\n",
    "print(\"Kiểm tra phân phối chuẩn của X2:\")\n",
    "if p1 > 0.05:\n",
    "    print('Không thể bác bỏ giả thiết H0: Phân phối của dữ liệu là chuẩn')\n",
    "else:\n",
    "    print('Dữ liệu không tuân theo luật phân phối chuẩn')\n",
    "print(\"~~~~~~~~~~~~~~~~~~~~~~~~~~~~~~~~~~~~~~~~~~~~~~~~~~~~~~~~~~~~~~~~~~~~~~~~~~\")\n",
    "\n",
    "stat2, p2 = shapiro(df_3['X3'])\n",
    "print(\"Kiểm tra phân phối chuẩn của X3:\")\n",
    "if p2 > 0.05:\n",
    "    print('Không thể bác bỏ giả thiết H0: Phân phối của dữ liệu là chuẩn')\n",
    "else:\n",
    "    print('Dữ liệu không tuân theo luật phân phối chuẩn')\n",
    "print(\"~~~~~~~~~~~~~~~~~~~~~~~~~~~~~~~~~~~~~~~~~~~~~~~~~~~~~~~~~~~~~~~~~~~~~~~~~~\")\n",
    "stat3, p3 = shapiro(df_3['X4'])\n",
    "print(\"Kiểm tra phân phối chuẩn của X4:\")\n",
    "if p3 > 0.05:\n",
    "    print('Không thể bác bỏ giả thiết H0: Phân phối của dữ liệu là chuẩn')\n",
    "else:\n",
    "    print('Dữ liệu không tuân theo luật phân phối chuẩn')"
   ]
  },
  {
   "cell_type": "code",
   "execution_count": 82,
   "metadata": {},
   "outputs": [
    {
     "name": "stdout",
     "output_type": "stream",
     "text": [
      "Kiểm tra phân phối chuẩn của X1:\n",
      "stat=0.159, p=0.902\n",
      "Không thể bác bỏ giả thiết H0: Phân phối của dữ liệu là chuẩn\n",
      "~~~~~~~~~~~~~~~~~~~~~~~~~~~~~~~~~~~~~~~~~~~~~~~~~~~~~~~~~~~~~~~~~~~~~~~~~~\n",
      "Kiểm tra phân phối chuẩn của X2:\n",
      "stat=nan, p=nan\n",
      "Dữ liệu không tuân theo luật phân phối chuẩn\n",
      "~~~~~~~~~~~~~~~~~~~~~~~~~~~~~~~~~~~~~~~~~~~~~~~~~~~~~~~~~~~~~~~~~~~~~~~~~~\n",
      "Kiểm tra phân phối chuẩn của X3:\n",
      "stat=nan, p=nan\n",
      "Dữ liệu không tuân theo luật phân phối chuẩn\n",
      "~~~~~~~~~~~~~~~~~~~~~~~~~~~~~~~~~~~~~~~~~~~~~~~~~~~~~~~~~~~~~~~~~~~~~~~~~~\n",
      "Kiểm tra phân phối chuẩn của X4:\n",
      "stat=nan, p=nan\n",
      "Dữ liệu không tuân theo luật phân phối chuẩn\n"
     ]
    },
    {
     "name": "stderr",
     "output_type": "stream",
     "text": [
      "C:\\Users\\USER\\anaconda3\\lib\\site-packages\\scipy\\stats\\_distn_infrastructure.py:1847: RuntimeWarning: invalid value encountered in greater_equal\n",
      "  cond2 = (x >= np.asarray(_b)) & cond0\n",
      "C:\\Users\\USER\\anaconda3\\lib\\site-packages\\scipy\\stats\\_distn_infrastructure.py:1932: RuntimeWarning: invalid value encountered in less_equal\n",
      "  cond2 = cond0 & (x <= _a)\n"
     ]
    }
   ],
   "source": [
    "#dùng kolmogorov test kiểm tra phân phối chuẩn\n",
    "mean_x1 = df_3['X1'].mean()\n",
    "std_x1 = df_3['X1'].std()\n",
    "kq_1 = (df_3['X1'] - mean_x1) / std_x1\n",
    "\n",
    "from scipy.stats import kstest\n",
    "stat3, p3 = kstest(kq_1, 'norm')\n",
    "print(\"Kiểm tra phân phối chuẩn của X1:\")\n",
    "print('stat=%.3f, p=%.3f' % (stat3, p3))\n",
    "if p3 > 0.05:\n",
    "    print('Không thể bác bỏ giả thiết H0: Phân phối của dữ liệu là chuẩn')\n",
    "else:\n",
    "    print('Dữ liệu không tuân theo luật phân phối chuẩn')\n",
    "print(\"~~~~~~~~~~~~~~~~~~~~~~~~~~~~~~~~~~~~~~~~~~~~~~~~~~~~~~~~~~~~~~~~~~~~~~~~~~\")\n",
    "mean_x2 = df_3['X2'].mean()\n",
    "std_x2 = df_3['X2'].std()\n",
    "kq_2 = (df_3['X2'] - mean_x2) / std_x2\n",
    "\n",
    "stat4, p4 = kstest(kq_2, 'norm')\n",
    "print(\"Kiểm tra phân phối chuẩn của X2:\")\n",
    "print('stat=%.3f, p=%.3f' % (stat4, p4))\n",
    "if p4 > 0.05:\n",
    "    print('Không thể bác bỏ giả thiết H0: Phân phối của dữ liệu là chuẩn')\n",
    "else:\n",
    "    print('Dữ liệu không tuân theo luật phân phối chuẩn')\n",
    "print(\"~~~~~~~~~~~~~~~~~~~~~~~~~~~~~~~~~~~~~~~~~~~~~~~~~~~~~~~~~~~~~~~~~~~~~~~~~~\")\n",
    "mean_x3 = df_3['X3'].mean()\n",
    "std_x3 = df_3['X3'].std()\n",
    "kq_3 = (df_3['X3'] - mean_x3) / std_x3\n",
    "\n",
    "stat5, p5 = kstest(kq_3, 'norm')\n",
    "print(\"Kiểm tra phân phối chuẩn của X3:\")\n",
    "print('stat=%.3f, p=%.3f' % (stat5, p5))\n",
    "if p5 > 0.05:\n",
    "    print('Không thể bác bỏ giả thiết H0: Phân phối của dữ liệu là chuẩn')\n",
    "else:\n",
    "    print('Dữ liệu không tuân theo luật phân phối chuẩn')\n",
    "print(\"~~~~~~~~~~~~~~~~~~~~~~~~~~~~~~~~~~~~~~~~~~~~~~~~~~~~~~~~~~~~~~~~~~~~~~~~~~\")\n",
    "mean_x4 = df_3['X3'].mean()\n",
    "std_x4 = df_3['X3'].std()\n",
    "kq_4 = (df_3['X3'] - mean_x4) / std_x4\n",
    "\n",
    "stat6, p6 = kstest(kq_4, 'norm')\n",
    "print(\"Kiểm tra phân phối chuẩn của X4:\")\n",
    "print('stat=%.3f, p=%.3f' % (stat6, p6))\n",
    "if p6 > 0.05:\n",
    "    print('Không thể bác bỏ giả thiết H0: Phân phối của dữ liệu là chuẩn')\n",
    "else:\n",
    "    print('Dữ liệu không tuân theo luật phân phối chuẩn')"
   ]
  },
  {
   "cell_type": "code",
   "execution_count": 83,
   "metadata": {},
   "outputs": [
    {
     "name": "stdout",
     "output_type": "stream",
     "text": [
      "Statistic = 12.022305190389242 \n",
      " p_value = 0.007307141609688417\n",
      "Tức là các feature không đồng nhất về phương sai.\n"
     ]
    }
   ],
   "source": [
    "#Dùng kiểm định Bartlett để kiểm tra tính thuần nhất của các features.\n",
    "from scipy.stats import bartlett\n",
    "stat8, p8 = bartlett(df_3['X1'], df_3['X2'], df_3['X3'], df_3['X4'])\n",
    "print(\"Statistic =\", stat8, \"\\n\",\n",
    "          \"p_value =\", p8)\n",
    "\n",
    "if p8 > 0.05:\n",
    "    print('Các feature đều có phương sai đồng nhất')\n",
    "else:\n",
    "    print('Tức là các feature không đồng nhất về phương sai.')\n"
   ]
  },
  {
   "cell_type": "code",
   "execution_count": 84,
   "metadata": {},
   "outputs": [
    {
     "name": "stdout",
     "output_type": "stream",
     "text": [
      "Kiểm định ANOVA:\n",
      "Stat = nan \n",
      " p value = nan\n",
      "Chưa có bằng chứng để bác bỏ giả thuyết H0\n",
      "None\n"
     ]
    }
   ],
   "source": [
    "print(anova(x1_c3, x2_c3, x3_c3, x4_c3))"
   ]
  },
  {
   "cell_type": "code",
   "execution_count": 68,
   "metadata": {},
   "outputs": [
    {
     "name": "stdout",
     "output_type": "stream",
     "text": [
      "Câu 4:Business Startup Costs\n"
     ]
    }
   ],
   "source": [
    "print(\"Câu 4:Business Startup Costs\")"
   ]
  },
  {
   "cell_type": "code",
   "execution_count": 69,
   "metadata": {},
   "outputs": [
    {
     "name": "stdout",
     "output_type": "stream",
     "text": [
      "*** No CODEPAGE record, no encoding_override: will use 'ascii'\n"
     ]
    },
    {
     "data": {
      "text/html": [
       "<div>\n",
       "<style scoped>\n",
       "    .dataframe tbody tr th:only-of-type {\n",
       "        vertical-align: middle;\n",
       "    }\n",
       "\n",
       "    .dataframe tbody tr th {\n",
       "        vertical-align: top;\n",
       "    }\n",
       "\n",
       "    .dataframe thead th {\n",
       "        text-align: right;\n",
       "    }\n",
       "</style>\n",
       "<table border=\"1\" class=\"dataframe\">\n",
       "  <thead>\n",
       "    <tr style=\"text-align: right;\">\n",
       "      <th></th>\n",
       "      <th>X1</th>\n",
       "      <th>X2</th>\n",
       "      <th>X3</th>\n",
       "      <th>X4</th>\n",
       "      <th>X5</th>\n",
       "    </tr>\n",
       "  </thead>\n",
       "  <tbody>\n",
       "    <tr>\n",
       "      <th>0</th>\n",
       "      <td>80.0</td>\n",
       "      <td>150.0</td>\n",
       "      <td>48.0</td>\n",
       "      <td>100.0</td>\n",
       "      <td>25</td>\n",
       "    </tr>\n",
       "    <tr>\n",
       "      <th>1</th>\n",
       "      <td>125.0</td>\n",
       "      <td>40.0</td>\n",
       "      <td>35.0</td>\n",
       "      <td>96.0</td>\n",
       "      <td>80</td>\n",
       "    </tr>\n",
       "    <tr>\n",
       "      <th>2</th>\n",
       "      <td>35.0</td>\n",
       "      <td>120.0</td>\n",
       "      <td>95.0</td>\n",
       "      <td>35.0</td>\n",
       "      <td>30</td>\n",
       "    </tr>\n",
       "    <tr>\n",
       "      <th>3</th>\n",
       "      <td>58.0</td>\n",
       "      <td>75.0</td>\n",
       "      <td>45.0</td>\n",
       "      <td>99.0</td>\n",
       "      <td>35</td>\n",
       "    </tr>\n",
       "    <tr>\n",
       "      <th>4</th>\n",
       "      <td>110.0</td>\n",
       "      <td>160.0</td>\n",
       "      <td>75.0</td>\n",
       "      <td>75.0</td>\n",
       "      <td>30</td>\n",
       "    </tr>\n",
       "  </tbody>\n",
       "</table>\n",
       "</div>"
      ],
      "text/plain": [
       "      X1     X2    X3     X4  X5\n",
       "0   80.0  150.0  48.0  100.0  25\n",
       "1  125.0   40.0  35.0   96.0  80\n",
       "2   35.0  120.0  95.0   35.0  30\n",
       "3   58.0   75.0  45.0   99.0  35\n",
       "4  110.0  160.0  75.0   75.0  30"
      ]
     },
     "execution_count": 69,
     "metadata": {},
     "output_type": "execute_result"
    }
   ],
   "source": [
    "df_4 = pd.read_excel('owan04.xls')\n",
    "df_4.head()"
   ]
  },
  {
   "cell_type": "code",
   "execution_count": 70,
   "metadata": {},
   "outputs": [],
   "source": [
    "x1_c4 = df_4['X1'].to_numpy()\n",
    "x2_c4 = df_4['X2'].to_numpy()\n",
    "x3_c4 = df_4['X3'].to_numpy()\n",
    "x4_c4 = df_4['X4'].to_numpy()\n",
    "x5_c4 = df_4['X5'].to_numpy()"
   ]
  },
  {
   "cell_type": "code",
   "execution_count": 71,
   "metadata": {},
   "outputs": [
    {
     "name": "stdout",
     "output_type": "stream",
     "text": [
      "Kiểm tra phân phối chuẩn của X1:\n",
      "Không thể bác bỏ giả thiết H0: Phân phối của dữ liệu là chuẩn\n",
      "~~~~~~~~~~~~~~~~~~~~~~~~~~~~~~~~~~~~~~~~~~~~~~~~~~~~~~~~~~~~~~~~~~~~~~~~~~\n",
      "Kiểm tra phân phối chuẩn của X2:\n",
      "Không thể bác bỏ giả thiết H0: Phân phối của dữ liệu là chuẩn\n",
      "~~~~~~~~~~~~~~~~~~~~~~~~~~~~~~~~~~~~~~~~~~~~~~~~~~~~~~~~~~~~~~~~~~~~~~~~~~\n",
      "Kiểm tra phân phối chuẩn của X3:\n",
      "Không thể bác bỏ giả thiết H0: Phân phối của dữ liệu là chuẩn\n",
      "~~~~~~~~~~~~~~~~~~~~~~~~~~~~~~~~~~~~~~~~~~~~~~~~~~~~~~~~~~~~~~~~~~~~~~~~~~\n",
      "Kiểm tra phân phối chuẩn của X4:\n",
      "Không thể bác bỏ giả thiết H0: Phân phối của dữ liệu là chuẩn\n",
      "~~~~~~~~~~~~~~~~~~~~~~~~~~~~~~~~~~~~~~~~~~~~~~~~~~~~~~~~~~~~~~~~~~~~~~~~~~\n",
      "Kiểm tra phân phối chuẩn của X5:\n",
      "Không thể bác bỏ giả thiết H0: Phân phối của dữ liệu là chuẩn\n"
     ]
    }
   ],
   "source": [
    "#sử dụng shapiro để kiểm tra phân phối chuẩn\n",
    "from scipy.stats import shapiro\n",
    "stat_2, p_2 = shapiro(df_4['X1'])\n",
    "print(\"Kiểm tra phân phối chuẩn của X1:\")\n",
    "if p_2 > 0.05:\n",
    "    print('Không thể bác bỏ giả thiết H0: Phân phối của dữ liệu là chuẩn')\n",
    "else:\n",
    "    print('Dữ liệu không tuân theo luật phân phối chuẩn')\n",
    "print(\"~~~~~~~~~~~~~~~~~~~~~~~~~~~~~~~~~~~~~~~~~~~~~~~~~~~~~~~~~~~~~~~~~~~~~~~~~~\")\n",
    "\n",
    "stat1_1, p1_1 = shapiro(df_4['X2'])\n",
    "print(\"Kiểm tra phân phối chuẩn của X2:\")\n",
    "if p1_1 > 0.05:\n",
    "    print('Không thể bác bỏ giả thiết H0: Phân phối của dữ liệu là chuẩn')\n",
    "else:\n",
    "    print('Dữ liệu không tuân theo luật phân phối chuẩn')\n",
    "print(\"~~~~~~~~~~~~~~~~~~~~~~~~~~~~~~~~~~~~~~~~~~~~~~~~~~~~~~~~~~~~~~~~~~~~~~~~~~\")\n",
    "\n",
    "stat2_1, p2_1 = shapiro(df_4['X3'])\n",
    "print(\"Kiểm tra phân phối chuẩn của X3:\")\n",
    "if p2_1 > 0.05:\n",
    "    print('Không thể bác bỏ giả thiết H0: Phân phối của dữ liệu là chuẩn')\n",
    "else:\n",
    "    print('Dữ liệu không tuân theo luật phân phối chuẩn')\n",
    "print(\"~~~~~~~~~~~~~~~~~~~~~~~~~~~~~~~~~~~~~~~~~~~~~~~~~~~~~~~~~~~~~~~~~~~~~~~~~~\")\n",
    "stat3_1, p3_1 = shapiro(df_4['X4'])\n",
    "print(\"Kiểm tra phân phối chuẩn của X4:\")\n",
    "if p3_1 > 0.05:\n",
    "    print('Không thể bác bỏ giả thiết H0: Phân phối của dữ liệu là chuẩn')\n",
    "else:\n",
    "    print('Dữ liệu không tuân theo luật phân phối chuẩn')\n",
    "print(\"~~~~~~~~~~~~~~~~~~~~~~~~~~~~~~~~~~~~~~~~~~~~~~~~~~~~~~~~~~~~~~~~~~~~~~~~~~\")\n",
    "stat4_1, p4_1 = shapiro(df_4['X5'])\n",
    "print(\"Kiểm tra phân phối chuẩn của X5:\")\n",
    "if p4_1 > 0.05:\n",
    "    print('Không thể bác bỏ giả thiết H0: Phân phối của dữ liệu là chuẩn')\n",
    "else:\n",
    "    print('Dữ liệu không tuân theo luật phân phối chuẩn')"
   ]
  },
  {
   "cell_type": "code",
   "execution_count": 74,
   "metadata": {},
   "outputs": [
    {
     "name": "stdout",
     "output_type": "stream",
     "text": [
      "Kiểm tra phân phối chuẩn của X1:\n",
      "stat=nan, p=nan\n",
      "Dữ liệu không tuân theo luật phân phối chuẩn\n",
      "~~~~~~~~~~~~~~~~~~~~~~~~~~~~~~~~~~~~~~~~~~~~~~~~~~~~~~~~~~~~~~~~~~~~~~~~~~\n",
      "Kiểm tra phân phối chuẩn của X2:\n",
      "stat=nan, p=nan\n",
      "Dữ liệu không tuân theo luật phân phối chuẩn\n",
      "~~~~~~~~~~~~~~~~~~~~~~~~~~~~~~~~~~~~~~~~~~~~~~~~~~~~~~~~~~~~~~~~~~~~~~~~~~\n",
      "Kiểm tra phân phối chuẩn của X3:\n",
      "stat=nan, p=nan\n",
      "Dữ liệu không tuân theo luật phân phối chuẩn\n",
      "~~~~~~~~~~~~~~~~~~~~~~~~~~~~~~~~~~~~~~~~~~~~~~~~~~~~~~~~~~~~~~~~~~~~~~~~~~\n",
      "Kiểm tra phân phối chuẩn của X4:\n",
      "stat=nan, p=nan\n",
      "Dữ liệu không tuân theo luật phân phối chuẩn\n",
      "~~~~~~~~~~~~~~~~~~~~~~~~~~~~~~~~~~~~~~~~~~~~~~~~~~~~~~~~~~~~~~~~~~~~~~~~~~\n",
      "Kiểm tra phân phối chuẩn của X5:\n",
      "stat=0.168, p=0.697\n",
      "Không thể bác bỏ giả thiết H0: Phân phối của dữ liệu là chuẩn\n"
     ]
    }
   ],
   "source": [
    "#dùng kolmogorov test kiểm tra phân phối chuẩn\n",
    "mean_x1 = df_4['X1'].mean()\n",
    "std_x1 = df_4['X1'].std()\n",
    "kq_1 = (df_4['X1'] - mean_x1) / std_x1\n",
    "\n",
    "from scipy.stats import kstest\n",
    "stat3, p3 = kstest(kq_1, 'norm')\n",
    "print(\"Kiểm tra phân phối chuẩn của X1:\")\n",
    "print('stat=%.3f, p=%.3f' % (stat3, p3))\n",
    "if p3 > 0.05:\n",
    "    print('Không thể bác bỏ giả thiết H0: Phân phối của dữ liệu là chuẩn')\n",
    "else:\n",
    "    print('Dữ liệu không tuân theo luật phân phối chuẩn')\n",
    "print(\"~~~~~~~~~~~~~~~~~~~~~~~~~~~~~~~~~~~~~~~~~~~~~~~~~~~~~~~~~~~~~~~~~~~~~~~~~~\")\n",
    "mean_x2 = df_4['X2'].mean()\n",
    "std_x2 = df_4['X2'].std()\n",
    "kq_2 = (df_4['X2'] - mean_x2) / std_x2\n",
    "\n",
    "stat4, p4 = kstest(kq_2, 'norm')\n",
    "print(\"Kiểm tra phân phối chuẩn của X2:\")\n",
    "print('stat=%.3f, p=%.3f' % (stat4, p4))\n",
    "if p4 > 0.05:\n",
    "    print('Không thể bác bỏ giả thiết H0: Phân phối của dữ liệu là chuẩn')\n",
    "else:\n",
    "    print('Dữ liệu không tuân theo luật phân phối chuẩn')\n",
    "print(\"~~~~~~~~~~~~~~~~~~~~~~~~~~~~~~~~~~~~~~~~~~~~~~~~~~~~~~~~~~~~~~~~~~~~~~~~~~\")\n",
    "mean_x3 = df_4['X3'].mean()\n",
    "std_x3 = df_4['X3'].std()\n",
    "kq_3 = (df_4['X3'] - mean_x3) / std_x3\n",
    "\n",
    "stat5, p5 = kstest(kq_3, 'norm')\n",
    "print(\"Kiểm tra phân phối chuẩn của X3:\")\n",
    "print('stat=%.3f, p=%.3f' % (stat5, p5))\n",
    "if p5 > 0.05:\n",
    "    print('Không thể bác bỏ giả thiết H0: Phân phối của dữ liệu là chuẩn')\n",
    "else:\n",
    "    print('Dữ liệu không tuân theo luật phân phối chuẩn')\n",
    "print(\"~~~~~~~~~~~~~~~~~~~~~~~~~~~~~~~~~~~~~~~~~~~~~~~~~~~~~~~~~~~~~~~~~~~~~~~~~~\")\n",
    "mean_x4 = df_4['X4'].mean()\n",
    "std_x4 = df_4['X4'].std()\n",
    "kq_4 = (df_4['X4'] - mean_x4) / std_x4\n",
    "\n",
    "stat6, p6 = kstest(kq_4, 'norm')\n",
    "print(\"Kiểm tra phân phối chuẩn của X4:\")\n",
    "print('stat=%.3f, p=%.3f' % (stat6, p6))\n",
    "if p6 > 0.05:\n",
    "    print('Không thể bác bỏ giả thiết H0: Phân phối của dữ liệu là chuẩn')\n",
    "else:\n",
    "    print('Dữ liệu không tuân theo luật phân phối chuẩn')\n",
    "print(\"~~~~~~~~~~~~~~~~~~~~~~~~~~~~~~~~~~~~~~~~~~~~~~~~~~~~~~~~~~~~~~~~~~~~~~~~~~\")\n",
    "mean_x5 = df_4['X5'].mean()\n",
    "std_x5 = df_4['X5'].std()\n",
    "kq_5 = (df_4['X5'] - mean_x5) / std_x5\n",
    "\n",
    "stat7, p7 = kstest(kq_5, 'norm')\n",
    "print(\"Kiểm tra phân phối chuẩn của X5:\")\n",
    "print('stat=%.3f, p=%.3f' % (stat7, p7))\n",
    "if p7 > 0.05:\n",
    "    print('Không thể bác bỏ giả thiết H0: Phân phối của dữ liệu là chuẩn')\n",
    "else:\n",
    "    print('Dữ liệu không tuân theo luật phân phối chuẩn')"
   ]
  },
  {
   "cell_type": "code",
   "execution_count": 75,
   "metadata": {},
   "outputs": [
    {
     "name": "stdout",
     "output_type": "stream",
     "text": [
      "Statistic = 2.149120392490446 \n",
      " p_value = 0.7083542065575461\n",
      "Các feature đều có phương sai đồng nhất\n"
     ]
    }
   ],
   "source": [
    "#Dùng kiểm định Bartlett để kiểm tra tính thuần nhất của các features.\n",
    "from scipy.stats import bartlett\n",
    "stat8, p8 = bartlett(df_4['X1'], df_4['X2'], df_4['X3'], df_4['X4'], df_4['X5'])\n",
    "print(\"Statistic =\", stat8, \"\\n\",\n",
    "          \"p_value =\", p8)\n",
    "\n",
    "if p8 > 0.05:\n",
    "    print('Các feature đều có phương sai đồng nhất')\n",
    "else:\n",
    "    print('Tức là các feature không đồng nhất về phương sai.')\n"
   ]
  },
  {
   "cell_type": "code",
   "execution_count": 76,
   "metadata": {},
   "outputs": [
    {
     "name": "stdout",
     "output_type": "stream",
     "text": [
      "Kiểm định ANOVA:\n",
      "Stat = nan \n",
      " p value = nan\n",
      "Chưa có bằng chứng để bác bỏ giả thuyết H0\n",
      "None\n"
     ]
    }
   ],
   "source": [
    "print(anova1(x1_c4, x2_c4, x3_c4, x4_c4, x5_c4))"
   ]
  },
  {
   "cell_type": "code",
   "execution_count": 85,
   "metadata": {},
   "outputs": [
    {
     "name": "stdout",
     "output_type": "stream",
     "text": [
      "Câu 5:Weights of Football Players\n"
     ]
    }
   ],
   "source": [
    "print(\"Câu 5:Weights of Football Players\")"
   ]
  },
  {
   "cell_type": "code",
   "execution_count": 86,
   "metadata": {},
   "outputs": [
    {
     "name": "stdout",
     "output_type": "stream",
     "text": [
      "*** No CODEPAGE record, no encoding_override: will use 'ascii'\n"
     ]
    },
    {
     "data": {
      "text/html": [
       "<div>\n",
       "<style scoped>\n",
       "    .dataframe tbody tr th:only-of-type {\n",
       "        vertical-align: middle;\n",
       "    }\n",
       "\n",
       "    .dataframe tbody tr th {\n",
       "        vertical-align: top;\n",
       "    }\n",
       "\n",
       "    .dataframe thead th {\n",
       "        text-align: right;\n",
       "    }\n",
       "</style>\n",
       "<table border=\"1\" class=\"dataframe\">\n",
       "  <thead>\n",
       "    <tr style=\"text-align: right;\">\n",
       "      <th></th>\n",
       "      <th>X1</th>\n",
       "      <th>X2</th>\n",
       "      <th>X3</th>\n",
       "      <th>X4</th>\n",
       "      <th>X5</th>\n",
       "    </tr>\n",
       "  </thead>\n",
       "  <tbody>\n",
       "    <tr>\n",
       "      <th>0</th>\n",
       "      <td>250</td>\n",
       "      <td>260</td>\n",
       "      <td>270</td>\n",
       "      <td>260</td>\n",
       "      <td>247</td>\n",
       "    </tr>\n",
       "    <tr>\n",
       "      <th>1</th>\n",
       "      <td>255</td>\n",
       "      <td>271</td>\n",
       "      <td>250</td>\n",
       "      <td>255</td>\n",
       "      <td>249</td>\n",
       "    </tr>\n",
       "    <tr>\n",
       "      <th>2</th>\n",
       "      <td>255</td>\n",
       "      <td>258</td>\n",
       "      <td>281</td>\n",
       "      <td>265</td>\n",
       "      <td>255</td>\n",
       "    </tr>\n",
       "    <tr>\n",
       "      <th>3</th>\n",
       "      <td>264</td>\n",
       "      <td>263</td>\n",
       "      <td>273</td>\n",
       "      <td>257</td>\n",
       "      <td>247</td>\n",
       "    </tr>\n",
       "    <tr>\n",
       "      <th>4</th>\n",
       "      <td>250</td>\n",
       "      <td>267</td>\n",
       "      <td>257</td>\n",
       "      <td>268</td>\n",
       "      <td>244</td>\n",
       "    </tr>\n",
       "  </tbody>\n",
       "</table>\n",
       "</div>"
      ],
      "text/plain": [
       "    X1   X2   X3   X4   X5\n",
       "0  250  260  270  260  247\n",
       "1  255  271  250  255  249\n",
       "2  255  258  281  265  255\n",
       "3  264  263  273  257  247\n",
       "4  250  267  257  268  244"
      ]
     },
     "execution_count": 86,
     "metadata": {},
     "output_type": "execute_result"
    }
   ],
   "source": [
    "df_5 = pd.read_excel('owan05.xls')\n",
    "df_5.head()"
   ]
  },
  {
   "cell_type": "code",
   "execution_count": 87,
   "metadata": {},
   "outputs": [],
   "source": [
    "x1_c5 = df_5['X1'].to_numpy()\n",
    "x2_c5 = df_5['X2'].to_numpy()\n",
    "x3_c5 = df_5['X3'].to_numpy()\n",
    "x4_c5 = df_5['X4'].to_numpy()\n",
    "x5_c5 = df_5['X5'].to_numpy()"
   ]
  },
  {
   "cell_type": "code",
   "execution_count": 88,
   "metadata": {},
   "outputs": [
    {
     "name": "stdout",
     "output_type": "stream",
     "text": [
      "Kiểm tra phân phối chuẩn của X1:\n",
      "Dữ liệu không tuân theo luật phân phối chuẩn\n",
      "~~~~~~~~~~~~~~~~~~~~~~~~~~~~~~~~~~~~~~~~~~~~~~~~~~~~~~~~~~~~~~~~~~~~~~~~~~\n",
      "Kiểm tra phân phối chuẩn của X2:\n",
      "Không thể bác bỏ giả thiết H0: Phân phối của dữ liệu là chuẩn\n",
      "~~~~~~~~~~~~~~~~~~~~~~~~~~~~~~~~~~~~~~~~~~~~~~~~~~~~~~~~~~~~~~~~~~~~~~~~~~\n",
      "Kiểm tra phân phối chuẩn của X3:\n",
      "Không thể bác bỏ giả thiết H0: Phân phối của dữ liệu là chuẩn\n",
      "~~~~~~~~~~~~~~~~~~~~~~~~~~~~~~~~~~~~~~~~~~~~~~~~~~~~~~~~~~~~~~~~~~~~~~~~~~\n",
      "Kiểm tra phân phối chuẩn của X4:\n",
      "Không thể bác bỏ giả thiết H0: Phân phối của dữ liệu là chuẩn\n",
      "~~~~~~~~~~~~~~~~~~~~~~~~~~~~~~~~~~~~~~~~~~~~~~~~~~~~~~~~~~~~~~~~~~~~~~~~~~\n",
      "Kiểm tra phân phối chuẩn của X5:\n",
      "Không thể bác bỏ giả thiết H0: Phân phối của dữ liệu là chuẩn\n"
     ]
    }
   ],
   "source": [
    "#sử dụng shapiro để kiểm tra phân phối chuẩn\n",
    "from scipy.stats import shapiro\n",
    "stat_2, p_2 = shapiro(df_5['X1'])\n",
    "print(\"Kiểm tra phân phối chuẩn của X1:\")\n",
    "if p_2 > 0.05:\n",
    "    print('Không thể bác bỏ giả thiết H0: Phân phối của dữ liệu là chuẩn')\n",
    "else:\n",
    "    print('Dữ liệu không tuân theo luật phân phối chuẩn')\n",
    "print(\"~~~~~~~~~~~~~~~~~~~~~~~~~~~~~~~~~~~~~~~~~~~~~~~~~~~~~~~~~~~~~~~~~~~~~~~~~~\")\n",
    "\n",
    "stat1_1, p1_1 = shapiro(df_5['X2'])\n",
    "print(\"Kiểm tra phân phối chuẩn của X2:\")\n",
    "if p1_1 > 0.05:\n",
    "    print('Không thể bác bỏ giả thiết H0: Phân phối của dữ liệu là chuẩn')\n",
    "else:\n",
    "    print('Dữ liệu không tuân theo luật phân phối chuẩn')\n",
    "print(\"~~~~~~~~~~~~~~~~~~~~~~~~~~~~~~~~~~~~~~~~~~~~~~~~~~~~~~~~~~~~~~~~~~~~~~~~~~\")\n",
    "\n",
    "stat2_1, p2_1 = shapiro(df_5['X3'])\n",
    "print(\"Kiểm tra phân phối chuẩn của X3:\")\n",
    "if p2_1 > 0.05:\n",
    "    print('Không thể bác bỏ giả thiết H0: Phân phối của dữ liệu là chuẩn')\n",
    "else:\n",
    "    print('Dữ liệu không tuân theo luật phân phối chuẩn')\n",
    "print(\"~~~~~~~~~~~~~~~~~~~~~~~~~~~~~~~~~~~~~~~~~~~~~~~~~~~~~~~~~~~~~~~~~~~~~~~~~~\")\n",
    "stat3_1, p3_1 = shapiro(df_5['X4'])\n",
    "print(\"Kiểm tra phân phối chuẩn của X4:\")\n",
    "if p3_1 > 0.05:\n",
    "    print('Không thể bác bỏ giả thiết H0: Phân phối của dữ liệu là chuẩn')\n",
    "else:\n",
    "    print('Dữ liệu không tuân theo luật phân phối chuẩn')\n",
    "print(\"~~~~~~~~~~~~~~~~~~~~~~~~~~~~~~~~~~~~~~~~~~~~~~~~~~~~~~~~~~~~~~~~~~~~~~~~~~\")\n",
    "stat4_1, p4_1 = shapiro(df_5['X5'])\n",
    "print(\"Kiểm tra phân phối chuẩn của X5:\")\n",
    "if p4_1 > 0.05:\n",
    "    print('Không thể bác bỏ giả thiết H0: Phân phối của dữ liệu là chuẩn')\n",
    "else:\n",
    "    print('Dữ liệu không tuân theo luật phân phối chuẩn')"
   ]
  },
  {
   "cell_type": "code",
   "execution_count": 89,
   "metadata": {},
   "outputs": [
    {
     "name": "stdout",
     "output_type": "stream",
     "text": [
      "Kiểm tra phân phối chuẩn của X1:\n",
      "stat=0.208, p=0.397\n",
      "Không thể bác bỏ giả thiết H0: Phân phối của dữ liệu là chuẩn\n",
      "~~~~~~~~~~~~~~~~~~~~~~~~~~~~~~~~~~~~~~~~~~~~~~~~~~~~~~~~~~~~~~~~~~~~~~~~~~\n",
      "Kiểm tra phân phối chuẩn của X2:\n",
      "stat=0.158, p=0.733\n",
      "Không thể bác bỏ giả thiết H0: Phân phối của dữ liệu là chuẩn\n",
      "~~~~~~~~~~~~~~~~~~~~~~~~~~~~~~~~~~~~~~~~~~~~~~~~~~~~~~~~~~~~~~~~~~~~~~~~~~\n",
      "Kiểm tra phân phối chuẩn của X3:\n",
      "stat=0.160, p=0.716\n",
      "Không thể bác bỏ giả thiết H0: Phân phối của dữ liệu là chuẩn\n",
      "~~~~~~~~~~~~~~~~~~~~~~~~~~~~~~~~~~~~~~~~~~~~~~~~~~~~~~~~~~~~~~~~~~~~~~~~~~\n",
      "Kiểm tra phân phối chuẩn của X4:\n",
      "stat=0.193, p=0.491\n",
      "Không thể bác bỏ giả thiết H0: Phân phối của dữ liệu là chuẩn\n",
      "~~~~~~~~~~~~~~~~~~~~~~~~~~~~~~~~~~~~~~~~~~~~~~~~~~~~~~~~~~~~~~~~~~~~~~~~~~\n",
      "Kiểm tra phân phối chuẩn của X5:\n",
      "stat=0.221, p=0.326\n",
      "Không thể bác bỏ giả thiết H0: Phân phối của dữ liệu là chuẩn\n"
     ]
    }
   ],
   "source": [
    "#dùng kolmogorov test kiểm tra phân phối chuẩn\n",
    "mean_x1 = df_5['X1'].mean()\n",
    "std_x1 = df_5['X1'].std()\n",
    "kq_1 = (df_5['X1'] - mean_x1) / std_x1\n",
    "\n",
    "from scipy.stats import kstest\n",
    "stat3, p3 = kstest(kq_1, 'norm')\n",
    "print(\"Kiểm tra phân phối chuẩn của X1:\")\n",
    "print('stat=%.3f, p=%.3f' % (stat3, p3))\n",
    "if p3 > 0.05:\n",
    "    print('Không thể bác bỏ giả thiết H0: Phân phối của dữ liệu là chuẩn')\n",
    "else:\n",
    "    print('Dữ liệu không tuân theo luật phân phối chuẩn')\n",
    "print(\"~~~~~~~~~~~~~~~~~~~~~~~~~~~~~~~~~~~~~~~~~~~~~~~~~~~~~~~~~~~~~~~~~~~~~~~~~~\")\n",
    "mean_x2 = df_5['X2'].mean()\n",
    "std_x2 = df_5['X2'].std()\n",
    "kq_2 = (df_5['X2'] - mean_x2) / std_x2\n",
    "\n",
    "stat4, p4 = kstest(kq_2, 'norm')\n",
    "print(\"Kiểm tra phân phối chuẩn của X2:\")\n",
    "print('stat=%.3f, p=%.3f' % (stat4, p4))\n",
    "if p4 > 0.05:\n",
    "    print('Không thể bác bỏ giả thiết H0: Phân phối của dữ liệu là chuẩn')\n",
    "else:\n",
    "    print('Dữ liệu không tuân theo luật phân phối chuẩn')\n",
    "print(\"~~~~~~~~~~~~~~~~~~~~~~~~~~~~~~~~~~~~~~~~~~~~~~~~~~~~~~~~~~~~~~~~~~~~~~~~~~\")\n",
    "mean_x3 = df_5['X3'].mean()\n",
    "std_x3 = df_5['X3'].std()\n",
    "kq_3 = (df_5['X3'] - mean_x3) / std_x3\n",
    "\n",
    "stat5, p5 = kstest(kq_3, 'norm')\n",
    "print(\"Kiểm tra phân phối chuẩn của X3:\")\n",
    "print('stat=%.3f, p=%.3f' % (stat5, p5))\n",
    "if p5 > 0.05:\n",
    "    print('Không thể bác bỏ giả thiết H0: Phân phối của dữ liệu là chuẩn')\n",
    "else:\n",
    "    print('Dữ liệu không tuân theo luật phân phối chuẩn')\n",
    "print(\"~~~~~~~~~~~~~~~~~~~~~~~~~~~~~~~~~~~~~~~~~~~~~~~~~~~~~~~~~~~~~~~~~~~~~~~~~~\")\n",
    "mean_x4 = df_5['X4'].mean()\n",
    "std_x4 = df_5['X4'].std()\n",
    "kq_4 = (df_5['X4'] - mean_x4) / std_x4\n",
    "\n",
    "stat6, p6 = kstest(kq_4, 'norm')\n",
    "print(\"Kiểm tra phân phối chuẩn của X4:\")\n",
    "print('stat=%.3f, p=%.3f' % (stat6, p6))\n",
    "if p6 > 0.05:\n",
    "    print('Không thể bác bỏ giả thiết H0: Phân phối của dữ liệu là chuẩn')\n",
    "else:\n",
    "    print('Dữ liệu không tuân theo luật phân phối chuẩn')\n",
    "print(\"~~~~~~~~~~~~~~~~~~~~~~~~~~~~~~~~~~~~~~~~~~~~~~~~~~~~~~~~~~~~~~~~~~~~~~~~~~\")\n",
    "mean_x5 = df_5['X5'].mean()\n",
    "std_x5 = df_5['X5'].std()\n",
    "kq_5 = (df_5['X5'] - mean_x5) / std_x5\n",
    "\n",
    "stat7, p7 = kstest(kq_5, 'norm')\n",
    "print(\"Kiểm tra phân phối chuẩn của X5:\")\n",
    "print('stat=%.3f, p=%.3f' % (stat7, p7))\n",
    "if p7 > 0.05:\n",
    "    print('Không thể bác bỏ giả thiết H0: Phân phối của dữ liệu là chuẩn')\n",
    "else:\n",
    "    print('Dữ liệu không tuân theo luật phân phối chuẩn')"
   ]
  },
  {
   "cell_type": "code",
   "execution_count": 90,
   "metadata": {},
   "outputs": [
    {
     "name": "stdout",
     "output_type": "stream",
     "text": [
      "Statistic = 0.23906518343914643 \n",
      " p_value = 0.9934005503125588\n",
      "Các feature đều có phương sai đồng nhất\n"
     ]
    }
   ],
   "source": [
    "#Dùng kiểm định Bartlett để kiểm tra tính thuần nhất của các features.\n",
    "from scipy.stats import bartlett\n",
    "stat8, p8 = bartlett(df_5['X1'], df_5['X2'], df_5['X3'], df_5['X4'], df_5['X5'])\n",
    "print(\"Statistic =\", stat8, \"\\n\",\n",
    "          \"p_value =\", p8)\n",
    "\n",
    "if p8 > 0.05:\n",
    "    print('Các feature đều có phương sai đồng nhất')\n",
    "else:\n",
    "    print('Tức là các feature không đồng nhất về phương sai.')\n"
   ]
  },
  {
   "cell_type": "code",
   "execution_count": 91,
   "metadata": {},
   "outputs": [
    {
     "name": "stdout",
     "output_type": "stream",
     "text": [
      "Kiểm định ANOVA:\n",
      "Stat = 1.5750491966351665 \n",
      " p value = 0.18898555405394352\n",
      "Chưa có bằng chứng để bác bỏ giả thuyết H0\n",
      "None\n"
     ]
    }
   ],
   "source": [
    "print(anova1(x1_c5, x2_c5, x3_c5, x4_c5, x5_c5))"
   ]
  },
  {
   "cell_type": "code",
   "execution_count": null,
   "metadata": {},
   "outputs": [],
   "source": []
  }
 ],
 "metadata": {
  "kernelspec": {
   "display_name": "Python 3",
   "language": "python",
   "name": "python3"
  },
  "language_info": {
   "codemirror_mode": {
    "name": "ipython",
    "version": 3
   },
   "file_extension": ".py",
   "mimetype": "text/x-python",
   "name": "python",
   "nbconvert_exporter": "python",
   "pygments_lexer": "ipython3",
   "version": "3.8.3"
  }
 },
 "nbformat": 4,
 "nbformat_minor": 4
}
