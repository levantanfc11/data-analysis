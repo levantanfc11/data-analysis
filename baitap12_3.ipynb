{
  "nbformat": 4,
  "nbformat_minor": 0,
  "metadata": {
    "kernelspec": {
      "display_name": "Python 3",
      "language": "python",
      "name": "python3"
    },
    "language_info": {
      "codemirror_mode": {
        "name": "ipython",
        "version": 3
      },
      "file_extension": ".py",
      "mimetype": "text/x-python",
      "name": "python",
      "nbconvert_exporter": "python",
      "pygments_lexer": "ipython3",
      "version": "3.8.5"
    },
    "colab": {
      "name": "Bản sao của baitap12/3.ipynb",
      "provenance": [],
      "collapsed_sections": [],
      "include_colab_link": true
    }
  },
  "cells": [
    {
      "cell_type": "markdown",
      "metadata": {
        "id": "view-in-github",
        "colab_type": "text"
      },
      "source": [
        "<a href=\"https://colab.research.google.com/github/levantanfc11/data-analysis/blob/main/baitap12_3.ipynb\" target=\"_parent\"><img src=\"https://colab.research.google.com/assets/colab-badge.svg\" alt=\"Open In Colab\"/></a>"
      ]
    },
    {
      "cell_type": "markdown",
      "metadata": {
        "id": "vC3iUEBoQ5xl"
      },
      "source": [
        "THỰC HÀNH THỐNG KÊ MÔ TẢ VỚI DỮ LIỆU ĐỊNH LƯỢNG\n",
        "\n",
        "Sử dụng tập dữ liệu microbiome.csv được cung cấp để hoàn thành các bài tập sau"
      ]
    },
    {
      "cell_type": "markdown",
      "metadata": {
        "id": "A1_8_hoYQ5xq"
      },
      "source": [
        "Câu 1: Tải tập dữ liệu microbiome.csv vào bộ nhớ (sử dụng pandas)"
      ]
    },
    {
      "cell_type": "code",
      "metadata": {
        "colab": {
          "base_uri": "https://localhost:8080/"
        },
        "id": "pQ3YWe-zQ5xr",
        "outputId": "d63fbdfa-14f3-40b7-a68f-812ba2b6c53b"
      },
      "source": [
        "import pandas as pd\n",
        "import numpy as np\n",
        "import statistics as sta\n",
        "from numpy import median\n",
        "import matplotlib.pyplot as plt\n",
        "from scipy import special\n",
        "from scipy import stats\n",
        "import seaborn as sns\n",
        "url = 'https://raw.githubusercontent.com/levantanfc11/NGONNGUR/main/microbiome.csv'\n",
        "dfdata = pd.read_csv(url)\n",
        "print(dfdata)"
      ],
      "execution_count": 1,
      "outputs": [
        {
          "output_type": "stream",
          "text": [
            "         Taxon  Patient  Tissue  Stool\n",
            "0   Firmicutes        1     632    305\n",
            "1   Firmicutes        2     136   4182\n",
            "2   Firmicutes        3    1174    703\n",
            "3   Firmicutes        4     408   3946\n",
            "4   Firmicutes        5     831   8605\n",
            "..         ...      ...     ...    ...\n",
            "70       Other       11     203      6\n",
            "71       Other       12     392      6\n",
            "72       Other       13      28     25\n",
            "73       Other       14      12     22\n",
            "74       Other       15     305     32\n",
            "\n",
            "[75 rows x 4 columns]\n"
          ],
          "name": "stdout"
        }
      ]
    },
    {
      "cell_type": "markdown",
      "metadata": {
        "id": "LI0P7yXeQ5xs"
      },
      "source": [
        "NHÓM CÁC CÂU LỆNH THỰC HIỆN CÁC PHÉP TÍNH HƯỚNG TÂM\n",
        "\n",
        "Câu 2: Hãy tính trung bình cộng của cột Patient"
      ]
    },
    {
      "cell_type": "code",
      "metadata": {
        "id": "_CLn6wjoQ5xs",
        "colab": {
          "base_uri": "https://localhost:8080/"
        },
        "outputId": "a4120e41-35bc-41e4-dbc2-fd06b305bfaf"
      },
      "source": [
        "np.mean(dfdata['Patient'])"
      ],
      "execution_count": 2,
      "outputs": [
        {
          "output_type": "execute_result",
          "data": {
            "text/plain": [
              "8.0"
            ]
          },
          "metadata": {
            "tags": []
          },
          "execution_count": 2
        }
      ]
    },
    {
      "cell_type": "markdown",
      "metadata": {
        "id": "dVBPa0pzQ5xt"
      },
      "source": [
        "Câu 3: Hãy tính trung bình cộng (mean) đồng thời cho 3 cột Patient, Tissue và Stool"
      ]
    },
    {
      "cell_type": "code",
      "metadata": {
        "id": "0PnNxOcnQ5xt",
        "colab": {
          "base_uri": "https://localhost:8080/"
        },
        "outputId": "03622072-37e3-4ac7-c83a-a3ae7be8bd7d"
      },
      "source": [
        "np.mean(dfdata[['Patient', 'Tissue', 'Stool']])"
      ],
      "execution_count": 3,
      "outputs": [
        {
          "output_type": "execute_result",
          "data": {
            "text/plain": [
              "Patient      8.000000\n",
              "Tissue     975.000000\n",
              "Stool      723.786667\n",
              "dtype: float64"
            ]
          },
          "metadata": {
            "tags": []
          },
          "execution_count": 3
        }
      ]
    },
    {
      "cell_type": "markdown",
      "metadata": {
        "id": "hHwQx-qtQ5xt"
      },
      "source": [
        "Câu 4: Hãy tính trung vị (median) cho 2 cột Tissue và Stool"
      ]
    },
    {
      "cell_type": "code",
      "metadata": {
        "id": "_L2TJmenQ5xt",
        "colab": {
          "base_uri": "https://localhost:8080/"
        },
        "outputId": "809d65e5-709a-40f3-85c9-021361e04ead"
      },
      "source": [
        "mediantissue = median(dfdata['Tissue'])\n",
        "print(mediantissue)\n",
        "medianstool = median(dfdata['Stool'])\n",
        "print(medianstool)"
      ],
      "execution_count": 4,
      "outputs": [
        {
          "output_type": "stream",
          "text": [
            "310.0\n",
            "80.0\n"
          ],
          "name": "stdout"
        }
      ]
    },
    {
      "cell_type": "markdown",
      "metadata": {
        "id": "XquF9lfvQ5xu"
      },
      "source": [
        "Câu 5: Hãy tính số yếu vị (mode) cho 3 cột Patient, Tissue và Stool"
      ]
    },
    {
      "cell_type": "code",
      "metadata": {
        "id": "aeHWuOfUQ5xu",
        "outputId": "3ab04307-8fc9-48d3-c353-1f096d20d98b"
      },
      "source": [
        "Patient_mode = sta.mode(dfdata['Patient'])\n",
        "print(Patient_mode)\n",
        "Tissue_mode = sta.mode(dfdata['Tissue'])\n",
        "print(Tissue_mode)\n",
        "Stool_mode = sta.mode(dfdata['Stool'])\n",
        "print(Stool_mode)"
      ],
      "execution_count": null,
      "outputs": [
        {
          "output_type": "stream",
          "text": [
            "1\n",
            "678\n",
            "2\n"
          ],
          "name": "stdout"
        }
      ]
    },
    {
      "cell_type": "markdown",
      "metadata": {
        "id": "LQ4ePptgQ5xu"
      },
      "source": [
        "NHÓM CÂU LỆNH TÍNH PHƯƠNG SAI - ĐỘ LỆCH CHUẨN\n",
        "\n",
        "Câu 6: Hãy tính phương sai (variance) của cột Tissue"
      ]
    },
    {
      "cell_type": "code",
      "metadata": {
        "id": "GPJEgcgRQ5xu",
        "outputId": "193baf13-e88d-4632-83c1-b650c9f01f8b"
      },
      "source": [
        "print(dfdata.var()['Tissue'])"
      ],
      "execution_count": null,
      "outputs": [
        {
          "output_type": "stream",
          "text": [
            "3306370.027027027\n"
          ],
          "name": "stdout"
        }
      ]
    },
    {
      "cell_type": "markdown",
      "metadata": {
        "id": "nB1GbVvFQ5xv"
      },
      "source": [
        "Câu 7: Hãy tính phương sai của 3 cột Patient, Tissue và Stool"
      ]
    },
    {
      "cell_type": "code",
      "metadata": {
        "id": "aVjbna9jQ5xv",
        "outputId": "06720e60-ad4d-4d19-8867-68e8e08d8107"
      },
      "source": [
        "print(dfdata.var()[['Patient', 'Tissue', 'Stool']])"
      ],
      "execution_count": null,
      "outputs": [
        {
          "output_type": "stream",
          "text": [
            "Patient    1.891892e+01\n",
            "Tissue     3.306370e+06\n",
            "Stool      2.108251e+06\n",
            "dtype: float64\n"
          ],
          "name": "stdout"
        }
      ]
    },
    {
      "cell_type": "markdown",
      "metadata": {
        "id": "eiaC8HJhQ5xv"
      },
      "source": [
        "Câu 8: Hãy tính độ lệch chuẩn (standard deviation) của 3 cột Patient, Tissue và Stool"
      ]
    },
    {
      "cell_type": "code",
      "metadata": {
        "id": "WhXnM8wZQ5xv",
        "outputId": "56469044-416a-4123-b7a8-28a0a3c7f143"
      },
      "source": [
        "print(dfdata.std()[['Patient', 'Tissue', 'Stool']])"
      ],
      "execution_count": null,
      "outputs": [
        {
          "output_type": "stream",
          "text": [
            "Patient       4.349588\n",
            "Tissue     1818.342659\n",
            "Stool      1451.981733\n",
            "dtype: float64\n"
          ],
          "name": "stdout"
        }
      ]
    },
    {
      "cell_type": "markdown",
      "metadata": {
        "id": "WihgwTEPQ5xw"
      },
      "source": [
        "NHÓM CÂU LỆNH TÍNH PHÂN VỊ (PERCENTILE)"
      ]
    },
    {
      "cell_type": "markdown",
      "metadata": {
        "id": "anLsQGS0Q5xw"
      },
      "source": [
        "Câu 9: Tính Q1 Q2 và Q3 cho cột Tissue\n",
        "\n",
        "Tham khảo:\n",
        "\n",
        "1) https://www.geeksforgeeks.org/python-pandas-dataframe-quantile/\n",
        "\n",
        "2) https://stackoverflow.com/questions/45926230/how-to-calculate-1st-and-3rd-quartiles/45926291"
      ]
    },
    {
      "cell_type": "code",
      "metadata": {
        "id": "0CCxGOihQ5xw",
        "outputId": "3cd91bf0-781e-48ff-843d-7c179b3dc7f3"
      },
      "source": [
        "Q1 = np.percentile(dfdata['Tissue'],25)\n",
        "print(Q1)\n",
        "Q2 = np.percentile(dfdata['Tissue'],50)\n",
        "print(Q2)\n",
        "Q3 = np.percentile(dfdata['Tissue'],75)\n",
        "print(Q3)"
      ],
      "execution_count": null,
      "outputs": [
        {
          "output_type": "stream",
          "text": [
            "108.0\n",
            "310.0\n",
            "835.0\n"
          ],
          "name": "stdout"
        }
      ]
    },
    {
      "cell_type": "markdown",
      "metadata": {
        "id": "fld5LXIoQ5xw"
      },
      "source": [
        "Câu 10: Hãy tính z-score cho cột Tissue\n",
        "\n",
        "Gợi ý: sử dụng hàm zscore của thư viện scipy\n",
        "\n",
        "Tham khảo: https://stackoverflow.com/questions/24761998/pandas-compute-z-score-for-all-columns"
      ]
    },
    {
      "cell_type": "code",
      "metadata": {
        "id": "nBKkozbEQ5xw",
        "outputId": "848631da-dc08-49da-935b-e16393678762"
      },
      "source": [
        "stats.zscore(dfdata['Tissue'])"
      ],
      "execution_count": null,
      "outputs": [
        {
          "output_type": "execute_result",
          "data": {
            "text/plain": [
              "array([-0.18990359, -0.46451635,  0.1101773 , -0.31392225, -0.07972629,\n",
              "       -0.15613064, -0.14228928, -0.44403112, -0.41358011, -0.45012133,\n",
              "       -0.33385382,  1.81598764, -0.48057234, -0.48666254, -0.38423641,\n",
              "        0.36707311,  0.82716022, -0.07529705,  1.90401875,  6.12840462,\n",
              "        0.73912911,  1.15049461, -0.32111977,  0.92792539,  0.12180405,\n",
              "        3.25659734, -0.27239815,  1.09346817,  0.3133686 ,  0.18381338,\n",
              "       -0.22478384,  0.34049768, -0.52597203, -0.39641681, -0.22533749,\n",
              "        0.07031416, -0.16443547, -0.39586316, -0.30506378, -0.23641059,\n",
              "       -0.42852879, -0.5165599 , -0.47946503, -0.51157701, -0.36818042,\n",
              "       -0.4761431 , -0.50271853, -0.5398134 , -0.49275274, -0.46064077,\n",
              "       -0.16443547,  2.13378547, -0.49884295, -0.44624574, -0.48112599,\n",
              "       -0.4993966 , -0.52320376, -0.51157701,  0.82937484, -0.48334061,\n",
              "       -0.47669676, -0.43185072, -0.5165599 , -0.36485849, -0.42797514,\n",
              "       -0.47558945, -0.24803734, -0.34215865, -0.48112599, -0.50271853,\n",
              "       -0.42742148, -0.32278073, -0.52431107, -0.53316954, -0.37094869])"
            ]
          },
          "metadata": {
            "tags": []
          },
          "execution_count": 33
        }
      ]
    },
    {
      "cell_type": "markdown",
      "metadata": {
        "id": "wXlBRmxzQ5xx"
      },
      "source": [
        "NHÓM CÂU LỆNH TỔNG HỢP\n",
        "\n",
        "Câu 11: (bổ sung) Hãy tính giá trị lớn nhất và nhỏ nhất của 3 cột Patient, Tissue và Stool"
      ]
    },
    {
      "cell_type": "code",
      "metadata": {
        "id": "mYMLpGRCQ5xx",
        "outputId": "9e27ffd7-2c85-49d6-b057-4f22f42ead2b"
      },
      "source": [
        "lonnhat = dfdata.max()\n",
        "print(lonnhat)\n",
        "nhonhat = dfdata.min()\n",
        "print(nhonhat)"
      ],
      "execution_count": null,
      "outputs": [
        {
          "output_type": "stream",
          "text": [
            "Taxon      Proteobacteria\n",
            "Patient                15\n",
            "Tissue              12044\n",
            "Stool                8605\n",
            "dtype: object\n",
            "Taxon      Actinobacteria\n",
            "Patient                 1\n",
            "Tissue                  0\n",
            "Stool                   0\n",
            "dtype: object\n"
          ],
          "name": "stdout"
        }
      ]
    },
    {
      "cell_type": "markdown",
      "metadata": {
        "id": "G2fmcBXrQ5xx"
      },
      "source": [
        "Câu 12: Hãy thực thi hàm describe đối với data frame chứa dữ liệu của microbiome.csv\n",
        "\n",
        "Tham khảo: https://pandas.pydata.org/docs/reference/api/pandas.DataFrame.describe.html![image.png](attachment:image.png)"
      ]
    },
    {
      "cell_type": "code",
      "metadata": {
        "id": "lTqhR3qOQ5xx",
        "outputId": "8571e737-2625-48f9-e35f-42d7aa2b10eb"
      },
      "source": [
        "dfdata.describe()"
      ],
      "execution_count": null,
      "outputs": [
        {
          "output_type": "execute_result",
          "data": {
            "text/html": [
              "<div>\n",
              "<style scoped>\n",
              "    .dataframe tbody tr th:only-of-type {\n",
              "        vertical-align: middle;\n",
              "    }\n",
              "\n",
              "    .dataframe tbody tr th {\n",
              "        vertical-align: top;\n",
              "    }\n",
              "\n",
              "    .dataframe thead th {\n",
              "        text-align: right;\n",
              "    }\n",
              "</style>\n",
              "<table border=\"1\" class=\"dataframe\">\n",
              "  <thead>\n",
              "    <tr style=\"text-align: right;\">\n",
              "      <th></th>\n",
              "      <th>Patient</th>\n",
              "      <th>Tissue</th>\n",
              "      <th>Stool</th>\n",
              "    </tr>\n",
              "  </thead>\n",
              "  <tbody>\n",
              "    <tr>\n",
              "      <th>count</th>\n",
              "      <td>75.000000</td>\n",
              "      <td>75.000000</td>\n",
              "      <td>75.000000</td>\n",
              "    </tr>\n",
              "    <tr>\n",
              "      <th>mean</th>\n",
              "      <td>8.000000</td>\n",
              "      <td>975.000000</td>\n",
              "      <td>723.786667</td>\n",
              "    </tr>\n",
              "    <tr>\n",
              "      <th>std</th>\n",
              "      <td>4.349588</td>\n",
              "      <td>1818.342659</td>\n",
              "      <td>1451.981733</td>\n",
              "    </tr>\n",
              "    <tr>\n",
              "      <th>min</th>\n",
              "      <td>1.000000</td>\n",
              "      <td>0.000000</td>\n",
              "      <td>0.000000</td>\n",
              "    </tr>\n",
              "    <tr>\n",
              "      <th>25%</th>\n",
              "      <td>4.000000</td>\n",
              "      <td>108.000000</td>\n",
              "      <td>16.000000</td>\n",
              "    </tr>\n",
              "    <tr>\n",
              "      <th>50%</th>\n",
              "      <td>8.000000</td>\n",
              "      <td>310.000000</td>\n",
              "      <td>80.000000</td>\n",
              "    </tr>\n",
              "    <tr>\n",
              "      <th>75%</th>\n",
              "      <td>12.000000</td>\n",
              "      <td>835.000000</td>\n",
              "      <td>656.000000</td>\n",
              "    </tr>\n",
              "    <tr>\n",
              "      <th>max</th>\n",
              "      <td>15.000000</td>\n",
              "      <td>12044.000000</td>\n",
              "      <td>8605.000000</td>\n",
              "    </tr>\n",
              "  </tbody>\n",
              "</table>\n",
              "</div>"
            ],
            "text/plain": [
              "         Patient        Tissue        Stool\n",
              "count  75.000000     75.000000    75.000000\n",
              "mean    8.000000    975.000000   723.786667\n",
              "std     4.349588   1818.342659  1451.981733\n",
              "min     1.000000      0.000000     0.000000\n",
              "25%     4.000000    108.000000    16.000000\n",
              "50%     8.000000    310.000000    80.000000\n",
              "75%    12.000000    835.000000   656.000000\n",
              "max    15.000000  12044.000000  8605.000000"
            ]
          },
          "metadata": {
            "tags": []
          },
          "execution_count": 46
        }
      ]
    },
    {
      "cell_type": "markdown",
      "metadata": {
        "id": "ud1A2U-fQ5xx"
      },
      "source": [
        "NHÓM CÂU LỆNH ĐỒ HỌA\n",
        "\n",
        "Câu 13: Hãy vẽ biểu đồ box plot cho cột Tissue"
      ]
    },
    {
      "cell_type": "code",
      "metadata": {
        "id": "AIeP7k2-Q5xy",
        "outputId": "ba54ba33-2783-4a41-96c2-433a842a4cda"
      },
      "source": [
        "plt.boxplot(dfdata['Tissue'])\n",
        "plt.show()"
      ],
      "execution_count": null,
      "outputs": [
        {
          "output_type": "display_data",
          "data": {
            "image/png": "[encoded data removed]",
            "text/plain": [
              "<Figure size 432x288 with 1 Axes>"
            ]
          },
          "metadata": {
            "tags": [],
            "needs_background": "light"
          }
        }
      ]
    },
    {
      "cell_type": "markdown",
      "metadata": {
        "id": "NkDxvmgbQ5xy"
      },
      "source": [
        "Câu 14: Hãy vẽ biểu đồ box plot cho cả 2 cột Tissue và Stool chung 1 hình (gồm có 2 box plot)"
      ]
    },
    {
      "cell_type": "code",
      "metadata": {
        "id": "GrMmfYFzQ5xy",
        "colab": {
          "base_uri": "https://localhost:8080/",
          "height": 282
        },
        "outputId": "90cf27d0-36d4-4817-eb76-9ecd9ab73b57"
      },
      "source": [
        "pd.DataFrame.boxplot(dfdata[['Tissue','Stool']])"
      ],
      "execution_count": null,
      "outputs": [
        {
          "output_type": "execute_result",
          "data": {
            "text/plain": [
              "<matplotlib.axes._subplots.AxesSubplot at 0x7fb822421ed0>"
            ]
          },
          "metadata": {
            "tags": []
          },
          "execution_count": 7
        },
        {
          "output_type": "display_data",
          "data": {
            "image/png": "[encoded data removed]",
            "text/plain": [
              "<Figure size 432x288 with 1 Axes>"
            ]
          },
          "metadata": {
            "tags": [],
            "needs_background": "light"
          }
        }
      ]
    },
    {
      "cell_type": "markdown",
      "metadata": {
        "id": "qg14qz9WQ5xy"
      },
      "source": [
        "Câu 15: Hãy vẽ lại câu 14 với các box plot nằm ngang"
      ]
    },
    {
      "cell_type": "code",
      "metadata": {
        "id": "M15YVxdJQ5xy",
        "colab": {
          "base_uri": "https://localhost:8080/",
          "height": 282
        },
        "outputId": "92e44e94-2e08-462e-e1a2-876dd2d8799f"
      },
      "source": [
        "pd.DataFrame.boxplot(dfdata[['Tissue','Stool']],vert = 0)"
      ],
      "execution_count": null,
      "outputs": [
        {
          "output_type": "execute_result",
          "data": {
            "text/plain": [
              "<matplotlib.axes._subplots.AxesSubplot at 0x7fb8224af810>"
            ]
          },
          "metadata": {
            "tags": []
          },
          "execution_count": 6
        },
        {
          "output_type": "display_data",
          "data": {
            "image/png": "[encoded data removed]",
            "text/plain": [
              "<Figure size 432x288 with 1 Axes>"
            ]
          },
          "metadata": {
            "tags": [],
            "needs_background": "light"
          }
        }
      ]
    },
    {
      "cell_type": "markdown",
      "metadata": {
        "id": "kxLEK71BQ5xz"
      },
      "source": [
        "Câu 16: Hãy sử dụng thư viện seaborn để vẽ biểu đồ box plot cho Tissue và Stool"
      ]
    },
    {
      "cell_type": "code",
      "metadata": {
        "id": "aHYOopQhQ5xz",
        "colab": {
          "base_uri": "https://localhost:8080/",
          "height": 400
        },
        "outputId": "67d7d1f6-bd4b-4732-9def-7ace6fe68c32"
      },
      "source": [
        "df = pd.DataFrame(data = dfdata, columns = ['Tissue','Stool'])\r\n",
        "\r\n",
        "#sns.boxplot(x=\"variable\", y=\"value\", data=pd.melt(df))\r\n",
        "sns.catplot(x=\"variable\", \r\n",
        "            y=\"value\", \r\n",
        "            kind=\"violin\", \r\n",
        "            data=pd.melt(df))"
      ],
      "execution_count": 9,
      "outputs": [
        {
          "output_type": "execute_result",
          "data": {
            "text/plain": [
              "<seaborn.axisgrid.FacetGrid at 0x7f5a8ddd0f90>"
            ]
          },
          "metadata": {
            "tags": []
          },
          "execution_count": 9
        },
        {
          "output_type": "display_data",
          "data": {
            "image/png": "[encoded data removed]",
            "text/plain": [
              "<Figure size 360x360 with 1 Axes>"
            ]
          },
          "metadata": {
            "tags": [],
            "needs_background": "light"
          }
        }
      ]
    }
  ]
}