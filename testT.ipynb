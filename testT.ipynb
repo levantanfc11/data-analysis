{
  "nbformat": 4,
  "nbformat_minor": 0,
  "metadata": {
    "colab": {
      "name": "testT.ipynb",
      "provenance": [],
      "authorship_tag": "ABX9TyPBbmNfWSY8mqBUiikfnW3U",
      "include_colab_link": true
    },
    "kernelspec": {
      "name": "python3",
      "display_name": "Python 3"
    },
    "language_info": {
      "name": "python"
    }
  },
  "cells": [
    {
      "cell_type": "markdown",
      "metadata": {
        "id": "view-in-github",
        "colab_type": "text"
      },
      "source": [
        "<a href=\"https://colab.research.google.com/github/levantanfc11/data-analysis/blob/main/testT.ipynb\" target=\"_parent\"><img src=\"https://colab.research.google.com/assets/colab-badge.svg\" alt=\"Open In Colab\"/></a>"
      ]
    },
    {
      "cell_type": "code",
      "metadata": {
        "id": "wxbjoEab5E2V"
      },
      "source": [
        "#Các thư viện cần thiết\n",
        "import numpy as np\n",
        "import pandas as pd\n",
        "import random\n",
        "from scipy import stats\n",
        "from statsmodels.stats.weightstats import ztest\n",
        "import warnings\n",
        "import matplotlib.pyplot as plt\n",
        "import seaborn as sns\n",
        "from statsmodels.stats import weightstats\n",
        "%matplotlib inline"
      ],
      "execution_count": 6,
      "outputs": []
    },
    {
      "cell_type": "code",
      "metadata": {
        "id": "8ozWdZAa5cns"
      },
      "source": [
        "#Thiết lập định dạng hình ảnh\n",
        "sns.set(rc={'figure.figsize':(13, 7.5)})\n",
        "sns.set_context('talk')"
      ],
      "execution_count": 7,
      "outputs": []
    },
    {
      "cell_type": "code",
      "metadata": {
        "id": "VXyJCBsz5hsd"
      },
      "source": [
        "#Tắt các cảnh báo của scipy\n",
        "warnings.filterwarnings('ignore')"
      ],
      "execution_count": 8,
      "outputs": []
    },
    {
      "cell_type": "markdown",
      "metadata": {
        "id": "jNETZH8t7lxm"
      },
      "source": [
        "#Một số lưu ý khi kiểm định giả thuyết trong thống kê suy diễn \n",
        "(1) Cỡ mẫu thường nhỏ ( n<30 ) để có ý nghĩa thống kê\n",
        "(2) Các mẫu quan sát được (sample observations) phải được lựa chọn ngẫu nhiên từ quần thể\n",
        "\n",
        "(3) Các đại lượng như trung bình mẫu (sample mean), độ lệch chuẩn của mẫu (standard deviation), phương sai mẫu (sample variance) được tính từ tập mẫu quan sát được.\n",
        "\n",
        "(4) Giả định rằng quần thể được nghiên cứu lấy mẫu xấp xỉ với phân phối chuẩn."
      ]
    },
    {
      "cell_type": "markdown",
      "metadata": {
        "id": "4bfE0-XG7rIo"
      },
      "source": [
        "#Các bước thực hiện kiểm định giả thuyết (sử dụng kiểm định t)\n",
        "Bước 1: Thực hiện các phép đo, hay thu thập dữ liệu quan sát\n",
        "\n",
        "Bước 2: Phát biểu giả thuyết H0 và giả thuyết thay thế Ha\n",
        "\n",
        "Bước 3: Xác định mức α (hay khoảng tin cậy)\n",
        "\n",
        "Bước 4: Lấy mẫu và tính toán các đại lượng thống kê của mẫu\n",
        "\n",
        "Bước 5: Thực hiện kiểm định t (t-test)\n",
        "\n",
        "Bước 6: Kết luận dựa vào kết quả kiểm định"
      ]
    },
    {
      "cell_type": "markdown",
      "metadata": {
        "id": "SMhfC7-U7uhG"
      },
      "source": [
        "#KIỂM ĐỊNH GIẢ THUYẾT MỘT ĐUÔI\n",
        "\n",
        "Kỹ thuật sinh dữ liệu ngẫu nhiên Sinh các mẫu ngẫu nhiên lấy ra từ phân phối chuẩn bằng hàm random.normal() với các tham số:\n",
        "mean: giá trị trung bình của quần thể\n",
        "\n",
        "scale: độ lệch chuẩn của quần thể (không âm)\n",
        "\n",
        "size: kích thước mẫu"
      ]
    },
    {
      "cell_type": "code",
      "metadata": {
        "id": "JnnYRWYZ5hpQ"
      },
      "source": [
        "#Sinh ngẫu nhiên 20 mẫu tuân theo phân phối chuẩn có trung bình mẫu là 1 và độ lệch chuẩn là 0.1\n",
        "mean = 1\n",
        "std = 0.1\n",
        "N = 20\n",
        "samples = np.random.normal(mean, std, N)"
      ],
      "execution_count": 9,
      "outputs": []
    },
    {
      "cell_type": "code",
      "metadata": {
        "colab": {
          "base_uri": "https://localhost:8080/"
        },
        "id": "BM2Z6AKa5hlw",
        "outputId": "c0752d44-d294-496e-ea91-74b468b81746"
      },
      "source": [
        "#In ra 10 phần tử đầu tiên\n",
        "print(samples[:10])"
      ],
      "execution_count": 10,
      "outputs": [
        {
          "output_type": "stream",
          "text": [
            "[1.00929346 1.22005318 0.88868697 1.11193195 0.88401578 1.06140611\n",
            " 1.14497377 1.01662876 1.14290926 0.85527982]\n"
          ],
          "name": "stdout"
        }
      ]
    },
    {
      "cell_type": "code",
      "metadata": {
        "colab": {
          "base_uri": "https://localhost:8080/"
        },
        "id": "C6Ss3YbC5hhy",
        "outputId": "00f2bd12-9e6d-4dd6-a96b-b05ae4139b82"
      },
      "source": [
        "#In ra các giá trị max, min của samples\n",
        "print('Max: ', max(samples))\n",
        "print('Min: ', min(samples))"
      ],
      "execution_count": 11,
      "outputs": [
        {
          "output_type": "stream",
          "text": [
            "Max:  1.2200531839461815\n",
            "Min:  0.8552798242746212\n"
          ],
          "name": "stdout"
        }
      ]
    },
    {
      "cell_type": "code",
      "metadata": {
        "colab": {
          "base_uri": "https://localhost:8080/",
          "height": 469
        },
        "id": "cWsBzwhm5hes",
        "outputId": "15f1b41b-843d-4404-edd5-7dcf89321dd4"
      },
      "source": [
        "#Vẽ histogram của mẫu vừa được sinh ngẫu nhiên\n",
        "plt.hist(samples, 30, density=True)\n",
        "plt.show()"
      ],
      "execution_count": 12,
      "outputs": [
        {
          "output_type": "display_data",
          "data": {
            "image/png": "[encoded data removed]",
            "text/plain": [
              "<Figure size 936x540 with 1 Axes>"
            ]
          },
          "metadata": {
            "tags": []
          }
        }
      ]
    },
    {
      "cell_type": "code",
      "metadata": {
        "colab": {
          "base_uri": "https://localhost:8080/",
          "height": 469
        },
        "id": "yghoTD135WOc",
        "outputId": "479c4e08-caed-4d18-a280-7e62dc837b51"
      },
      "source": [
        "#Vẽ đường phân phối chuẩn cùng với histogram\n",
        "count, bins, ignored = plt.hist(samples, 30, density=True)\n",
        "plt.plot(bins, 1/(std * np.sqrt(2 * np.pi)) * np.exp( - (bins - mean)**2 / (2 * std**2) ),\n",
        "         linewidth=2, color='r')\n",
        "plt.show()"
      ],
      "execution_count": 13,
      "outputs": [
        {
          "output_type": "display_data",
          "data": {
            "image/png": "[encoded data removed]",
            "text/plain": [
              "<Figure size 936x540 with 1 Axes>"
            ]
          },
          "metadata": {
            "tags": []
          }
        }
      ]
    },
    {
      "cell_type": "code",
      "metadata": {
        "colab": {
          "base_uri": "https://localhost:8080/",
          "height": 533
        },
        "id": "J3lNBNRf7-8c",
        "outputId": "575f3646-c1e0-4c2b-95d2-acf915b2034f"
      },
      "source": [
        "#Sinh ngẫu nhiên 6000 mẫu theo phân phối chuẩn có mean = 0 và std = 10\n",
        "samples = np.random.normal(loc=0, scale=10, size=6000)\n",
        "#Minh họa một đuôi và mức alpha = 0.05\n",
        "two_std_from_mean = np.mean(samples) + np.std(samples)*1.645\n",
        "#kernel density\n",
        "kde = stats.gaussian_kde(samples)\n",
        "#Trả về 10000 giá trị phân bố bằng nhau trong khoảng từ min tới max của samples \n",
        "pos = np.linspace(np.min(samples), np.max(samples), 10000)\n",
        "plt.plot(pos, kde(pos), color='teal')\n",
        "shade = np.linspace(two_std_from_mean, 40, 300)\n",
        "plt.fill_between(shade, kde(shade), alpha=0.45, color='teal')\n",
        "plt.title(\"Phân phối mẫu của kiểm định giả thuyết 1 đuôi\", y=1.015, fontsize=20)\n",
        "plt.xlabel(\"giá trị trung bình mẫu\", labelpad=14)\n",
        "plt.ylabel(\"tần suất xuất hiện\", labelpad=14);"
      ],
      "execution_count": 14,
      "outputs": [
        {
          "output_type": "display_data",
          "data": {
            "image/png": "[encoded data removed]",
            "text/plain": [
              "<Figure size 936x540 with 1 Axes>"
            ]
          },
          "metadata": {
            "tags": []
          }
        }
      ]
    },
    {
      "cell_type": "markdown",
      "metadata": {
        "id": "fE1c91hg8Bwg"
      },
      "source": [
        "#Hình minh họa các kiểm định 1-đuôi, 2-đuôi"
      ]
    },
    {
      "cell_type": "code",
      "metadata": {
        "colab": {
          "base_uri": "https://localhost:8080/",
          "height": 321
        },
        "id": "hyJLDAbd8HId",
        "outputId": "62da04e6-e1d5-4ede-c289-afb46356fdd3"
      },
      "source": [
        "# Sử dụng hình minh họa\n",
        "from IPython.display import Image\n",
        "from IPython.core.display import HTML \n",
        "Image(url= \"https://media.geeksforgeeks.org/wp-content/uploads/20201028032933/Screenshot37.png\", width=300, height=300)"
      ],
      "execution_count": 15,
      "outputs": [
        {
          "output_type": "execute_result",
          "data": {
            "text/html": [
              "<img src=\"https://media.geeksforgeeks.org/wp-content/uploads/20201028032933/Screenshot37.png\" width=\"300\" height=\"300\"/>"
            ],
            "text/plain": [
              "<IPython.core.display.Image object>"
            ]
          },
          "metadata": {
            "tags": []
          },
          "execution_count": 15
        }
      ]
    },
    {
      "cell_type": "code",
      "metadata": {
        "colab": {
          "base_uri": "https://localhost:8080/",
          "height": 321
        },
        "id": "yVs14jhK8KcA",
        "outputId": "c9b9dd0e-3f76-412a-dd6c-c50c6b46d9cb"
      },
      "source": [
        "Image(url= \"https://media.geeksforgeeks.org/wp-content/uploads/20201028032937/Screenshot39.png\", width=300, height=300)"
      ],
      "execution_count": 16,
      "outputs": [
        {
          "output_type": "execute_result",
          "data": {
            "text/html": [
              "<img src=\"https://media.geeksforgeeks.org/wp-content/uploads/20201028032937/Screenshot39.png\" width=\"300\" height=\"300\"/>"
            ],
            "text/plain": [
              "<IPython.core.display.Image object>"
            ]
          },
          "metadata": {
            "tags": []
          },
          "execution_count": 16
        }
      ]
    },
    {
      "cell_type": "code",
      "metadata": {
        "colab": {
          "base_uri": "https://localhost:8080/",
          "height": 321
        },
        "id": "wOzdgOU68MLB",
        "outputId": "431d99a0-d72e-4ad4-8269-60de0ac5bc78"
      },
      "source": [
        "Image(url= \"https://media.geeksforgeeks.org/wp-content/uploads/20201028032935/Screenshot38.png\", width=300, height=300)"
      ],
      "execution_count": 17,
      "outputs": [
        {
          "output_type": "execute_result",
          "data": {
            "text/html": [
              "<img src=\"https://media.geeksforgeeks.org/wp-content/uploads/20201028032935/Screenshot38.png\" width=\"300\" height=\"300\"/>"
            ],
            "text/plain": [
              "<IPython.core.display.Image object>"
            ]
          },
          "metadata": {
            "tags": []
          },
          "execution_count": 17
        }
      ]
    },
    {
      "cell_type": "markdown",
      "metadata": {
        "id": "8SI4H8oN8Q9s"
      },
      "source": [
        "3. Xây dựng một kiểm định t cụ thể với số liệu được sinh ngẫu nhiên theo phân phối chuẩn\n",
        "\n",
        "Bài toán: Cân thử 15 con gà tây ở 1 trại chăn nuôi khi xuất chuồng ta tính\n",
        "được $\\overline{\\rm x} = 3.62kg$. Cho biết σ = 0.1.\n",
        "Giám đốc trại tuyên bố trọng lương trung bình của gà tây là 3, 5kg thì\n",
        "có tin được không với mức ý nghĩa α =1%.\n",
        "\n",
        "Xây dựng giả thuyết\n",
        "\n",
        "$$H_{0}: \\mu = 3.5kg$$\n",
        "\n",
        "Giả thuyết thay thế: \n",
        "\n",
        "$$H_{a}: \\mu \\neq 3.5kg $$\n",
        "\n",
        "Giải:\n",
        "\n",
        "Với:\n",
        "- sig = 0.01\n",
        "- chỉ số t tương ứng = 2.58\n",
        "\n",
        "Công thức:\n",
        "$$Z = \\frac{(\\overline{\\rm X} - \\mu)}{(\\sigma / \\sqrt{n})}$$\n",
        "\n",
        "Áp dụng với các giá trị nêu trên:\n",
        "- $\\overline{\\rm x} = 3.62kg$\n",
        "- $\\mu = 3.5$\n",
        "- $\\sigma = 0.1$\n",
        "- $n = 15$\n",
        "- $\\alpha = 0.01$\n",
        "\n",
        "$$t = \\frac{(3.62 - 3.5)}{(0.1 / \\sqrt{15})} = 4.6$$  \n",
        "\n",
        "Giá trị t = 4.6 > 2.58 nên có bằng chứng để bác bỏ giả thuyết $H_{0}$\n",
        "\n"
      ]
    },
    {
      "cell_type": "code",
      "metadata": {
        "colab": {
          "base_uri": "https://localhost:8080/"
        },
        "id": "9z5MZQPs8SLl",
        "outputId": "1da3193c-3c07-4714-a7b4-8bdaa729fdfc"
      },
      "source": [
        "#Lập trình Python cho bài toán nêu trên\n",
        "#Sinh ngẫu nhiên một mẫu 15 phần tử có trung bình mẫu là 3.62, độ lệch chuẩn là 0.1\n",
        "sample1 = np.random.normal(3.62, 0.1, 15)\n",
        "print(sample1)"
      ],
      "execution_count": 19,
      "outputs": [
        {
          "output_type": "stream",
          "text": [
            "[3.61627087 3.52085992 3.67055886 3.60891073 3.44690626 3.83216097\n",
            " 3.43191893 3.33735319 3.71222649 3.51239843 3.5957483  3.80616408\n",
            " 3.61496404 3.53325867 3.75309102]\n"
          ],
          "name": "stdout"
        }
      ]
    },
    {
      "cell_type": "code",
      "metadata": {
        "id": "6AVNRWBg8G-O"
      },
      "source": [
        "#Xác định các thông số\n",
        "null_mean = 3.5\n",
        "alpha = 0.01"
      ],
      "execution_count": 20,
      "outputs": []
    },
    {
      "cell_type": "code",
      "metadata": {
        "colab": {
          "base_uri": "https://localhost:8080/"
        },
        "id": "COlR-U9I8faC",
        "outputId": "734b29d4-20db-4146-8974-5c60583a86a2"
      },
      "source": [
        "#Kiểm định t\n",
        "import statsmodels\n",
        "ttest, p_value = stats.ttest_1samp(sample1, null_mean)\n",
        "print('t = ', ttest, '; p = ', p_value)\n",
        "if(p_value <  alpha):\n",
        "  print(\"Có bằng chứng để bác bỏ giả thuyết H0\")\n",
        "else:\n",
        "  print(\"Chưa có bằng chứng để bác bỏ giả thuyết H0\")"
      ],
      "execution_count": 21,
      "outputs": [
        {
          "output_type": "stream",
          "text": [
            "t =  2.7398773163535273 ; p =  0.015958972420407877\n",
            "Chưa có bằng chứng để bác bỏ giả thuyết H0\n"
          ],
          "name": "stdout"
        }
      ]
    },
    {
      "cell_type": "markdown",
      "metadata": {
        "id": "cE-diOpb8izZ"
      },
      "source": [
        "Kiểm định giả thuyết 2-đuôi\n",
        "\n",
        "Một cách tổng quát, giả sử chúng ta có 2 quần thể độc lập và tuân theo phân phối chuẩn. Lấy ra 2 mẫu ngẫu nhiên tử 2 quần thể này.\n",
        "\n",
        "Xây dựng giả thuyết:\n",
        "\n",
        "$$H_{0}: \\mu_{1} = \\mu_{2}$$\n",
        "\n",
        "Giả thuyết thay thế:\n",
        "\n",
        "$$H_{a}: \\mu_{1} \\neq \\mu_{2}$$\n",
        "\n",
        "Thực hiện kiểm định t và so sánh với giá trị $t_{\\frac{\\alpha}{2}}$ để đi đến kết luận cuối cùng."
      ]
    },
    {
      "cell_type": "markdown",
      "metadata": {
        "id": "RXcvBBTW8m6y"
      },
      "source": [
        "Bài Toán: Đo đường kính 20 trục máy do máy I sản xuất và 22 trục máy do máy II sản xuất ta tính được $\\overline{\\rm x_{1}} =251$, 7; $s_{1}$ = 52, 853 và $\\overline{\\rm x_{2}} =249.8$; $s_{1}$ = 56.2. Mức ý nghĩa 1%."
      ]
    },
    {
      "cell_type": "code",
      "metadata": {
        "colab": {
          "base_uri": "https://localhost:8080/"
        },
        "id": "1SxSDGMV8nx4",
        "outputId": "d2a71a85-6f85-4d13-d994-1eb059cd7fe8"
      },
      "source": [
        "#Kiểm định t 2 đuôi\n",
        "#Lập trình python minh họa\n",
        "#Sinh ngẫu nhiên sample 1 có 20 phần tử với mean = 251, std có hiệu chỉnh = 52,853\n",
        "samples_1 = np.random.normal(251, 52.853, 20)\n",
        "print(samples_1)"
      ],
      "execution_count": 22,
      "outputs": [
        {
          "output_type": "stream",
          "text": [
            "[325.41615971 290.67575954 128.00082063 218.78278007 238.31137487\n",
            " 227.43329655 238.16879053 208.64185148 233.34515668 213.76173902\n",
            " 260.31520607 202.52056444 252.95235514 379.79839124 290.58769165\n",
            " 228.82786687 233.22152434 196.89551143 260.54901689 276.40702738]\n"
          ],
          "name": "stdout"
        }
      ]
    },
    {
      "cell_type": "code",
      "metadata": {
        "colab": {
          "base_uri": "https://localhost:8080/"
        },
        "id": "YCW8eiKQ8t--",
        "outputId": "d2e22872-3799-4438-a55a-fe37062de516"
      },
      "source": [
        "#Sinh ngẫu nhiên sample 2 có 22 phần tử với mean = 249.2 std = 56.2\n",
        "samples_2 = np.random.normal(249.2, 56.2, 22)\n",
        "print(samples_2)"
      ],
      "execution_count": 23,
      "outputs": [
        {
          "output_type": "stream",
          "text": [
            "[353.77968675 315.0418572  382.53056968 141.85085285 293.9813038\n",
            " 219.90868376 196.65083007 376.39447543 263.21941013 301.37275657\n",
            " 257.89853378 194.52317849 267.09783014 225.05618313 177.8590256\n",
            " 199.49830553 300.12182126 342.06010313 161.4655405  159.46337339\n",
            " 254.00459516 214.81712781]\n"
          ],
          "name": "stdout"
        }
      ]
    },
    {
      "cell_type": "code",
      "metadata": {
        "colab": {
          "base_uri": "https://localhost:8080/"
        },
        "id": "z2MnRPhi8t7C",
        "outputId": "6958975c-c816-4b08-db8d-f82ac1c15950"
      },
      "source": [
        "#Kiểm định giả thuyết\n",
        "#T-test cho phương tiện của hai mẫu độc lập từ thống kê mô tả. Từ bài toán trên\n",
        "alpha1 = 0.01\n",
        "ttest_score, p_value = stats.ttest_ind_from_stats(mean1 = 251, mean2 = 249.2, std1 = 52.853, std2 = 56.2, nobs1 = 20, nobs2 = 22)\n",
        "print('t = ', ttest_score, '; p = ', p_value)\n",
        "if(p_value <  alpha1):\n",
        "  print(\"Có bằng chứng để bác bỏ giả thuyết H0\")\n",
        "else:\n",
        "  print(\"Chưa có bằng chứng để bác bỏ giả thuyết H0\")"
      ],
      "execution_count": 24,
      "outputs": [
        {
          "output_type": "stream",
          "text": [
            "t =  0.10663439652131487 ; p =  0.9156120538802968\n",
            "Chưa có bằng chứng để bác bỏ giả thuyết H0\n"
          ],
          "name": "stdout"
        }
      ]
    },
    {
      "cell_type": "code",
      "metadata": {
        "colab": {
          "base_uri": "https://localhost:8080/"
        },
        "id": "Sqn2iLe_8zxC",
        "outputId": "a5ff4e41-6dce-4395-c13f-41dbf4c24fc5"
      },
      "source": [
        "#Kiểm định giả thuyết:\n",
        "#Tính toán kiểm tra T cho giá trị trung bình của hai mẫu điểm độc lập . \n",
        "alpha1 = 0.01\n",
        "ttest_score1, p_value1 = stats.ttest_ind(samples_1, samples_2, axis=0, equal_var=True, nan_policy='propagate')\n",
        "print('t_score = ', ttest_score1, '; p_value = ', p_value1)\n",
        "if(p_value <  alpha1):\n",
        "  print(\"Có bằng chứng để bác bỏ giả thuyết H0\")\n",
        "else:\n",
        "  print(\"Chưa có bằng chứng để bác bỏ giả thuyết H0\")"
      ],
      "execution_count": 25,
      "outputs": [
        {
          "output_type": "stream",
          "text": [
            "t_score =  -0.47279119411191 ; p_value =  0.6389318890184339\n",
            "Chưa có bằng chứng để bác bỏ giả thuyết H0\n"
          ],
          "name": "stdout"
        }
      ]
    }
  ]
}