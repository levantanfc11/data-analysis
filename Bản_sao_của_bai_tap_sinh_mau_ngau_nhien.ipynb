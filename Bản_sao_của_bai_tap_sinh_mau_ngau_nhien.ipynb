{
  "nbformat": 4,
  "nbformat_minor": 0,
  "metadata": {
    "kernelspec": {
      "display_name": "Python 3",
      "language": "python",
      "name": "python3"
    },
    "language_info": {
      "codemirror_mode": {
        "name": "ipython",
        "version": 3
      },
      "file_extension": ".py",
      "mimetype": "text/x-python",
      "name": "python",
      "nbconvert_exporter": "python",
      "pygments_lexer": "ipython3",
      "version": "3.7.3"
    },
    "colab": {
      "name": "Bản sao của bai-tap-sinh-mau-ngau-nhien.ipynb",
      "provenance": [],
      "include_colab_link": true
    }
  },
  "cells": [
    {
      "cell_type": "markdown",
      "metadata": {
        "id": "view-in-github",
        "colab_type": "text"
      },
      "source": [
        "<a href=\"https://colab.research.google.com/github/levantanfc11/data-analysis/blob/main/B%E1%BA%A3n_sao_c%E1%BB%A7a_bai_tap_sinh_mau_ngau_nhien.ipynb\" target=\"_parent\"><img src=\"https://colab.research.google.com/assets/colab-badge.svg\" alt=\"Open In Colab\"/></a>"
      ]
    },
    {
      "cell_type": "markdown",
      "metadata": {
        "id": "oPUlgUrSV8rf"
      },
      "source": [
        "Sử dụng thư viện Numpy\n",
        "\n",
        "1. Sinh mẫu ngẫu nhiên bằng hàm arange trong khoảng [-15, 27] với khoảng cách là 0.7 và in kết quả ra màn hình"
      ]
    },
    {
      "cell_type": "code",
      "metadata": {
        "id": "mvWT-H8UV8rh",
        "colab": {
          "base_uri": "https://localhost:8080/"
        },
        "outputId": "51fdef51-5c42-4f0f-9840-07cbc908e02b"
      },
      "source": [
        "import numpy as np\n",
        "a = np.arange(-15, 27, 0.7)\n",
        "print(a)"
      ],
      "execution_count": 5,
      "outputs": [
        {
          "output_type": "stream",
          "text": [
            "[-15.  -14.3 -13.6 -12.9 -12.2 -11.5 -10.8 -10.1  -9.4  -8.7  -8.   -7.3\n",
            "  -6.6  -5.9  -5.2  -4.5  -3.8  -3.1  -2.4  -1.7  -1.   -0.3   0.4   1.1\n",
            "   1.8   2.5   3.2   3.9   4.6   5.3   6.    6.7   7.4   8.1   8.8   9.5\n",
            "  10.2  10.9  11.6  12.3  13.   13.7  14.4  15.1  15.8  16.5  17.2  17.9\n",
            "  18.6  19.3  20.   20.7  21.4  22.1  22.8  23.5  24.2  24.9  25.6  26.3\n",
            "  27. ]\n"
          ],
          "name": "stdout"
        }
      ]
    },
    {
      "cell_type": "markdown",
      "metadata": {
        "id": "GVg7DY4iV8ri"
      },
      "source": [
        "2. Sinh mẫu ngẫu nhiên theo phân phối chuẩn với mean = 2.7 std = 1.2 và size = 40\n",
        "In kết quả ra màn hình"
      ]
    },
    {
      "cell_type": "code",
      "metadata": {
        "id": "Zkkhvjx2V8ri",
        "colab": {
          "base_uri": "https://localhost:8080/"
        },
        "outputId": "581f89b9-ee17-435d-ffb2-90ed08ae06c6"
      },
      "source": [
        "b = np.random.normal(loc = 2.7, scale = 1.2, size=40 )\n",
        "print(b)"
      ],
      "execution_count": 6,
      "outputs": [
        {
          "output_type": "stream",
          "text": [
            "[3.50360332 2.87308667 3.21218904 4.30410112 3.56071455 3.45479681\n",
            " 2.3669262  4.70457237 3.80447141 0.50542185 2.59127748 2.9907256\n",
            " 4.50138384 1.07742003 2.50757668 0.65359759 1.4240884  2.91937609\n",
            " 1.79195381 0.81566038 1.71880676 4.60648792 1.54922169 5.09026239\n",
            " 2.97382027 3.21068505 0.95557496 3.05225181 2.14580305 3.7909241\n",
            " 1.97766497 1.21056584 1.83680497 4.47898765 3.32610826 3.85660886\n",
            " 1.38858666 3.74479189 3.47192876 1.46407013]\n"
          ],
          "name": "stdout"
        }
      ]
    },
    {
      "cell_type": "markdown",
      "metadata": {
        "id": "UeGXbPyKV8rj"
      },
      "source": [
        "3. Sinh mẫu ngẫu nhiên từ vector ['Viet Nam', 'Britain', 'France', 'Russia', 'Singapore'] \n",
        "\n",
        "với kích thước là 17 theo phân phối chuẩn"
      ]
    },
    {
      "cell_type": "code",
      "metadata": {
        "id": "6iq_uNE6V8rk",
        "colab": {
          "base_uri": "https://localhost:8080/"
        },
        "outputId": "1be2f267-5898-4a7b-df60-6419f265f248"
      },
      "source": [
        "c = np.random.choice(['Viet Nam', 'Britain', 'France', 'Russia', 'Singapore'], 12)\n",
        "print(c)"
      ],
      "execution_count": 9,
      "outputs": [
        {
          "output_type": "stream",
          "text": [
            "['Russia' 'France' 'Russia' 'Russia' 'Singapore' 'Britain' 'Viet Nam'\n",
            " 'Singapore' 'France' 'Viet Nam' 'France' 'Britain']\n"
          ],
          "name": "stdout"
        }
      ]
    },
    {
      "cell_type": "markdown",
      "metadata": {
        "id": "yXkRzuHSV8rk"
      },
      "source": [
        "4. Sinh mẫu ngẫu nhiên ở câu 3 nhưng không theo phân phối chuẩn mà theo 1 vector đặc tả giá trị xác suất do bạn chọn"
      ]
    },
    {
      "cell_type": "code",
      "metadata": {
        "id": "N6CTYjijV8rk",
        "colab": {
          "base_uri": "https://localhost:8080/"
        },
        "outputId": "f7f1c78c-5edd-42e0-cb12-52b36c9ea5d0"
      },
      "source": [
        "c = np.random.choice(['Viet Nam', 'Britain', 'France', 'Russia', 'Singapore'], 12, p = [0.5, 0.2, 0.1, 0.1, 0.1])\n",
        "print(c)"
      ],
      "execution_count": 10,
      "outputs": [
        {
          "output_type": "stream",
          "text": [
            "['France' 'Britain' 'Viet Nam' 'France' 'Viet Nam' 'Viet Nam' 'Viet Nam'\n",
            " 'Viet Nam' 'Viet Nam' 'France' 'Viet Nam' 'Viet Nam']\n"
          ],
          "name": "stdout"
        }
      ]
    },
    {
      "cell_type": "markdown",
      "metadata": {
        "id": "a1yFRKXyV8rl"
      },
      "source": [
        "Sử dụng thư việc scipy.stats để sinh mẫu ngẫu nhiên\n",
        "\n",
        "1. Sinh mẫu ngẫu nhiên theo phân phối chuẩn với mean = 12.7, std = 2.6 và size = 30. In kết quả ra màn hình"
      ]
    },
    {
      "cell_type": "code",
      "metadata": {
        "id": "DeiYMNDaV8rl",
        "colab": {
          "base_uri": "https://localhost:8080/"
        },
        "outputId": "04f8037b-04da-440f-b68f-cb10806897b3"
      },
      "source": [
        "from scipy import stats\n",
        "\n",
        "d = stats.norm.rvs(loc = 12.7, scale = 2.6, size = 30)\n",
        "print(d[:5])"
      ],
      "execution_count": 15,
      "outputs": [
        {
          "output_type": "stream",
          "text": [
            "[18.05899899 14.16649354 13.2881578  11.84845899 13.15308506]\n"
          ],
          "name": "stdout"
        }
      ]
    },
    {
      "cell_type": "markdown",
      "metadata": {
        "id": "6bnd8IjZV8rm"
      },
      "source": [
        "2. Hãy sinh một mẫu ngẫu nhiên theo phân phối Poisson"
      ]
    },
    {
      "cell_type": "code",
      "metadata": {
        "id": "CqfYAOxeV8rm",
        "colab": {
          "base_uri": "https://localhost:8080/"
        },
        "outputId": "bc1c5409-d8b9-4fde-e1e2-ebfc486062ec"
      },
      "source": [
        "e = stats.poisson.rvs(loc = 5,\n",
        "                      mu = 4,\n",
        "                      size = 1000)\n",
        "print(e)"
      ],
      "execution_count": 19,
      "outputs": [
        {
          "output_type": "stream",
          "text": [
            "[ 6 13 12  9 13  9 11 10  8  9  8  8  9  6  9  9  6  8 11 10  8  8  7 10\n",
            "  8 12 12  9  9  9  7 10 10  8  6  9 12 11  9  9  9  9  6  8  7  8  7  8\n",
            " 11 10  9  8  9  7 11  6 12 10  7  8 10  9 11  6 12  8  9  9  9 11 11 11\n",
            "  7  8  7  5 14  8  8  8 10  8  8  8 13  6 11  6  6 10  9 10  6  9 11  6\n",
            "  7 15  6 12  8  6  8  7 11  9  9  7 11 11 14  9  9 12  9  9 13  8 12 10\n",
            " 10 15 11 12  9  9 10 11  8  9  8  6  6  9  9  9 10  7 11 10  8  8  9 12\n",
            "  8  9  9  9  7  9  9  9  8  9  8  9  8  8 10  8  6  7  6 10  7  8 10 12\n",
            " 11  8 12  8  8  5 10  9 10  9  8  8  9 15  8 13 10  5 12  8  9  9  7 12\n",
            " 10  7 12  7  8  7  8 10  9 10  8  8  8  9 10 11  7 10 14 12 10  6 10 10\n",
            "  9  9  8  8  7  9  7  9 12  7  9 10  6 10  7  9  9  6  8  7  9 13  6 11\n",
            " 11  7  8  8  8 12 14  9 10  8  9 11 10  9  9  8  9  9 10  6  9 14 10  7\n",
            "  6 12 10  6  8 12  9  7  9  6  6  5 10  7  5 10 10  9  9  8  6 10  6 11\n",
            "  8  5  9 10  6  9 10 12  9  7  7  8  8 10 12  6 10  6 10 10  8  5 12 11\n",
            "  9  8 11  9  8 10 10  7  6  7  9  8 12  7  8 13 10 14 11  9  7  9 10 10\n",
            "  9 12 10  8 10  8  8 11  6 10  6 10 14  6 10  8  8 12  8 13  8  8  7  8\n",
            " 10  8 11  9 10  9 10  8 11  9  6  9  8  9 11  5 13 10  9 12 10 11 13  6\n",
            " 11  9  6  6  9  7  9  8  8  9 11 10  9  7  8 11  9  8 15 11  7  9  9  7\n",
            "  9 10 10  8  8  7 10 10  8  8  7 12  9 10  6 10 11  8  9 10  9  9 11  9\n",
            "  6 11  8  8 12  8 12 11 10  9  8  8  8 11  7  9 10  8  8  9 10  9  8 10\n",
            "  9  9 13 10 11  7 13  7  9 12  8  9  6 14  7  7  9 10 14  9 11  7 10 11\n",
            " 10 12 11  6  8  9  5  8  7  8  7  8  8  7  8  8  9  7  6  7  7  6 12  8\n",
            " 13  9  9 10  8 11  9  9 10  7  8  7  8  6 10  6  8 10  9  9  9 10 12 14\n",
            " 10 14  9 11  9 11 12  9  7  9 15  8  7 10 11 11 10  9  9  6 10  9  6  9\n",
            " 11  7  7 10  9  8 11  6  9  9 11  6  7  5  9  9  9  6 15  9 10 11  7  8\n",
            "  9 13  9  8 11  9  8  8  8  9  7  7  8 10 11  8 11 12  7  7 10  7 11  9\n",
            " 10 11  7 12 10  8  8  9 10  8 10 11  7 13  9  7  7 11  7  9  6 10 13  9\n",
            "  7 12  9 13  9 10  8 10  8 10 11 10 11  9  9 11  9  8  9  8  7  6  6 10\n",
            " 10  7  8 10  9 10 14 10  8 10  9  5  8  9 10  8  9  8 12 10 12  7  7  8\n",
            "  7  7  8 13 10  8  6  9  8  8 10  9  7  8  6 10  7  9  9 10  7  7  9 11\n",
            "  9 11  8  6  9 12  8 11  6 13  5 10  6 13  9  9  7 10  9 11 13  9 12  9\n",
            "  6  7 11 10 11 12 12  9  9  7  9  8 11  9  8  7  8 10  8  9  9  7 11  7\n",
            "  9  9  7 11 11 11 10  7 12  8 11  9  8  7 13  8  8  6  9 13  8 11 11 10\n",
            "  8  9  9  5 10 10  8  9 10  8 14  5  9  8 10  8 15 11 13  9  8 10 11  9\n",
            " 10  8  8  6 12 10  9 11  8 12  6 10 12  7  9 10 10 11  7  8 11  8  9 11\n",
            " 12  8  6 12 12 11  8  9  8  9  9  9 12  9  8 12 10  6  8  9  7  8 11  9\n",
            "  6  8  7  9 12  9 10  8  5  8  9  9  7  9 12  7  8  9 10  9 11  7  9  7\n",
            "  9 11  7 11  7 13  7  6  7  8 12  8  8  7  9  9  7 12  8 13 17 11  8 14\n",
            "  8  9 11  7  6  8  8  7 10 11  7 11 12  7  7  9 12  6  9  7  8 11  8  9\n",
            "  6  7 12  9  9  8 13 10  8 11 13  9 10  8  8  8  8 13  7  8  9  7  7 13\n",
            "  8  8  7  8 11 10 10  8  9  8  9  9 12  7  7  8  6  8  9 11  6  8  8 11\n",
            " 11 11  9  9 10  7 10 10 11  8 10  9  9  8  6 11  8  7 12 11 10  8  9 10\n",
            " 14 10 11  6 10 15 10  6  9 14  9  7  9 11 10  8]\n"
          ],
          "name": "stdout"
        }
      ]
    }
  ]
}