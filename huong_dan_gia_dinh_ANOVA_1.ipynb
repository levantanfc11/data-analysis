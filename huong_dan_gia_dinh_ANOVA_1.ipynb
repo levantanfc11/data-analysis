{
  "nbformat": 4,
  "nbformat_minor": 0,
  "metadata": {
    "kernelspec": {
      "display_name": "Python 3",
      "language": "python",
      "name": "python3"
    },
    "language_info": {
      "codemirror_mode": {
        "name": "ipython",
        "version": 3
      },
      "file_extension": ".py",
      "mimetype": "text/x-python",
      "name": "python",
      "nbconvert_exporter": "python",
      "pygments_lexer": "ipython3",
      "version": "3.7.3"
    },
    "colab": {
      "name": "Bản sao của huong-dan-gia-dinh-ANOVA.ipynb",
      "provenance": [],
      "collapsed_sections": [],
      "include_colab_link": true
    }
  },
  "cells": [
    {
      "cell_type": "markdown",
      "metadata": {
        "id": "view-in-github",
        "colab_type": "text"
      },
      "source": [
        "<a href=\"https://colab.research.google.com/github/levantanfc11/data-analysis/blob/main/huong_dan_gia_dinh_ANOVA_1.ipynb\" target=\"_parent\"><img src=\"https://colab.research.google.com/assets/colab-badge.svg\" alt=\"Open In Colab\"/></a>"
      ]
    },
    {
      "cell_type": "markdown",
      "metadata": {
        "id": "Ctg_oeepPA14"
      },
      "source": [
        "PHÂN TÍCH ANOVA MỘT CHIỀU\n",
        "\n",
        "Phân tích ANOVA chấp nhận các giả định sau:\n",
        "\n",
        "(1) Tất cả các nhóm đều độc lập với nhau\n",
        "\n",
        "(2) Dữ liệu của mỗi nhóm đều tuân theo phân phối chuẩn. Tính chất này có thể được kiểm định bằng phương pháp Shapiro-Wilks.\n",
        "\n",
        "(3) Phương sai (variance) của các nhóm bằng nhau. Tính chất này có thể được kiểm định bằng phương pháp kiểm định Bartlett hay Levene.\n",
        "\n",
        "Nếu dữ liệu hiện có thỏa mãn các tính chất trên thì chúng ta mới tiến hành kiểm định ANOVA. Do vậy trước khi tiến hành kiểm định ANOVA, chúng ta cần thực hiện kiểm tra tập dữ liệu cần thỏa mãn 3 tính chất trên.\n",
        "    "
      ]
    },
    {
      "cell_type": "code",
      "metadata": {
        "id": "U1F4diAATjyf"
      },
      "source": [
        "import numpy as np\n",
        "from scipy import stats\n",
        "from scipy.stats import shapiro\n",
        "import scipy.stats as stats\n"
      ],
      "execution_count": 1,
      "outputs": []
    },
    {
      "cell_type": "code",
      "metadata": {
        "id": "BB8xP7nKPA2b",
        "colab": {
          "base_uri": "https://localhost:8080/"
        },
        "outputId": "653ddc8c-4173-4680-ec08-c01e1c32dbec"
      },
      "source": [
        "#Bước 1: Hãy tạo một tập dữ liệu mẫu sample_1 với kích thước 100 tuân theo phân phối chuẩn\n",
        "sample_1 = np.random.normal(loc = 5.5, scale = 2.7, size = 100)\n",
        "print(sample_1)"
      ],
      "execution_count": 2,
      "outputs": [
        {
          "output_type": "stream",
          "text": [
            "[ 5.29972514  9.05256713  7.02225199  0.04164055 11.68530356  8.5910444\n",
            "  6.50835937  6.11702528  6.50187016  4.3600829   5.13935622  2.4572098\n",
            "  5.38016103 11.55826835  3.12144048  9.87722112  8.42386604  6.26623786\n",
            "  3.90307716  4.78715879  4.77408401  4.82393681  6.85141555  6.61466914\n",
            "  4.22094738  4.66730707  6.4361533   4.60304729  6.01131599  6.0208539\n",
            "  0.82058186  9.38226884  9.36967061  3.2029797   0.28312298  5.97671479\n",
            "  5.1820646   3.40604198  5.3005674   9.03061326  5.71282784  1.29301861\n",
            "  8.56516051  7.0777476   6.63810038  3.5862788   7.35385145  4.28298925\n",
            "  6.88961776  1.08950865  3.98896674  2.66027789 10.50132102  3.79793257\n",
            "  5.14894139  2.11667233  4.53823815  0.62858833  2.93189406  4.48648019\n",
            "  4.9823787   2.56346549  9.00347766  5.14472513  3.73713891  6.50221489\n",
            "  2.25226291  7.38914923  7.09926605  4.63847359 10.85238024  6.96118608\n",
            "  4.05557415  2.06031956  9.6372859   7.23941824  1.06076363  0.7610531\n",
            "  7.0141213   6.70043535  3.91760912 -1.74631468  5.76482568  2.72887992\n",
            "  6.06173551  7.09035561  5.25175855  2.32106193  5.45410724  5.13835659\n",
            "  6.45314486  3.6778176   6.13665914  5.8063009   6.84051848  6.79582423\n",
            "  4.99628911  8.28568754  3.81884904  0.54628924]\n"
          ],
          "name": "stdout"
        }
      ]
    },
    {
      "cell_type": "code",
      "metadata": {
        "id": "O5fksdYYPA2g",
        "colab": {
          "base_uri": "https://localhost:8080/"
        },
        "outputId": "5e365e35-c8ca-4133-a50c-1ab9be54a8e5"
      },
      "source": [
        "#Bước 2: hãy tạo tập dữ liệu mẫu sample_2 với kích thước 100 tuân theo phân phối Poisson\n",
        "sample_2 = stats.poisson.rvs(loc=18,\n",
        "                              mu=30,\n",
        "                              size=100)\n",
        "print(sample_2[:10])"
      ],
      "execution_count": 3,
      "outputs": [
        {
          "output_type": "stream",
          "text": [
            "[50 57 47 45 55 49 56 44 36 50]\n"
          ],
          "name": "stdout"
        }
      ]
    },
    {
      "cell_type": "markdown",
      "metadata": {
        "id": "7hPm1POdPA2i"
      },
      "source": [
        "Hãy tham khảo các hướng dẫn sau để kiểm định tính chất thứ 2 bằng phương pháp Shapiro-Wilks đối với sample_1 và sample_2\n",
        "\n",
        "(1) [Tài liệu tham khảo scipy](https://docs.scipy.org/doc/scipy/reference/generated/scipy.stats.shapiro.html)\n",
        "\n",
        "(2) [Hướng dẫn cụ thể của statology](https://www.statology.org/shapiro-wilk-test-python/)"
      ]
    },
    {
      "cell_type": "code",
      "metadata": {
        "id": "9Ik1TOqePA2k",
        "colab": {
          "base_uri": "https://localhost:8080/"
        },
        "outputId": "b3360830-b538-4c2b-ef4c-0411d9b6cf1a"
      },
      "source": [
        "#Code kiểm định tính chất thứ 2 của sample_1 và sample_2\n",
        "# Kiểm định Shapiro-Wilk để xác định xem một mẫu có đến từ phân phối chuẩn hay không.\n",
        "print(\"Kiểm định Shapiro-Wilk để xem mẫu có tuân theo phân phối chuẩn\")\n",
        "shapiro_test_1 = stats.shapiro(sample_1)\n",
        "print(\"Statistic =\", shapiro_test_1[0],\n",
        "      \"pvalue =\", shapiro_test_1[1])\n",
        "\n",
        "print(\"-----------------------------------------\")\n",
        "print(\"Kiểm định Shapiro-Wilk để xem mẫu có tuân theo phân phối chuẩn\")\n",
        "shapiro_test_2 = stats.shapiro(sample_2)\n",
        "print(\"Statistic =\", shapiro_test_2[0],\n",
        "      \"p value =\", shapiro_test_2[1])"
      ],
      "execution_count": 12,
      "outputs": [
        {
          "output_type": "stream",
          "text": [
            "Kiểm định Shapiro-Wilk để xem mẫu có tuân theo phân phối chuẩn\n",
            "Statistic = 0.9908132553100586 pvalue = 0.7301264405250549\n",
            "-----------------------------------------\n",
            "Kiểm định Shapiro-Wilk để xem mẫu có tuân theo phân phối chuẩn\n",
            "Statistic = 0.9879001975059509 p value = 0.5008782148361206\n"
          ],
          "name": "stdout"
        }
      ]
    },
    {
      "cell_type": "markdown",
      "metadata": {
        "id": "ZQd7GtcVPA2m"
      },
      "source": [
        "Hãy tham khảo các hướng dẫn sau để kiểm định tính chất thứ 3 bằng kiểm định Bartlett hoặc kiểm định Levene\n",
        "\n",
        "(1) [Hướng dẫn tổng quát](https://www.marsja.se/levenes-bartletts-test-of-equality-homogeneity-of-variance-in-python/)\n",
        "\n",
        "(2) [Hướng dẫn ở stackoverflow](https://stackoverflow.com/questions/36141254/how-to-test-for-homoscedasticity-having-the-same-population-variance-in-python)\n",
        "\n",
        "(3) Sử dụng bài giảng về kiểm định Bartlett và Levene ở buổi trước"
      ]
    },
    {
      "cell_type": "code",
      "metadata": {
        "id": "sudFexcAPA2n",
        "colab": {
          "base_uri": "https://localhost:8080/"
        },
        "outputId": "b56ecfc3-54cc-43f2-b6d3-b658331a0aaa"
      },
      "source": [
        "#Code kiểm định tính đồng nhất về phương sai của các nhóm\n",
        "#Kiểm định Levene\n",
        "k1 = np.random.normal(loc = 7, scale=1, size=35)\n",
        "k2 = np.random.normal(loc = 7.5, scale=1, size=35)\n",
        "k3 = np.random.normal(loc = 8.2, scale=1, size=35)\n",
        "k4 = np.random.normal(loc = 7.4, scale=1, size=35)\n",
        "\n",
        "stat, pvalue = stats.levene(k1, k2, k3, k4) #'median' được khuyến nghị dùng cho các phân phối lệch. \n",
        "print(\"Statistic =\", stat, \"\\n\",\n",
        "      \"p value =\", pvalue)\n",
        "if pvalue < 0.05:\n",
        "  print(\"Chưa có bằng chứng thống kê để bác bỏ H0\")\n",
        "else:\n",
        "  print(\"Có bằng chứng thống kê để bác bỏ H0\")"
      ],
      "execution_count": 15,
      "outputs": [
        {
          "output_type": "stream",
          "text": [
            "Statistic = 0.1748466777533502 \n",
            " p value = 0.9132657695295425\n",
            "Có bằng chứng thống kê để bác bỏ H0\n"
          ],
          "name": "stdout"
        }
      ]
    },
    {
      "cell_type": "code",
      "metadata": {
        "id": "DAnaDf_EPA2p",
        "colab": {
          "base_uri": "https://localhost:8080/"
        },
        "outputId": "90282bf1-3577-41b0-c67c-2e7a2258f173"
      },
      "source": [
        "#Code kiểm định tính đồng nhất về phương sai của các nhóm\n",
        "#Kiểm định Bartlett\n",
        "k1 = np.random.normal(loc = 7, scale=1, size=35)\n",
        "k2 = np.random.normal(loc = 7.5, scale=1, size=35)\n",
        "k3 = np.random.normal(loc = 8.2, scale=1, size=35)\n",
        "k4 = np.random.normal(loc = 7.4, scale=1, size=35)\n",
        "\n",
        "stat1, pvalue1 = stats.bartlett(k1, k2, k3, k4)\n",
        "print(\"Statistic =\", stat1, \"\\n\",\n",
        "      \"p value =\", pvalue1)\n",
        "if pvalue1 < 0.05:\n",
        "  print(\"Chưa có bằng chứng thống kê để bác bỏ H0\")\n",
        "else:\n",
        "  print(\"Có bằng chứng thống kê để bác bỏ H0\")"
      ],
      "execution_count": 16,
      "outputs": [
        {
          "output_type": "stream",
          "text": [
            "Statistic = 6.810652152146955 \n",
            " p value = 0.0781841699472278\n",
            "Có bằng chứng thống kê để bác bỏ H0\n"
          ],
          "name": "stdout"
        }
      ]
    }
  ]
}