{
  "nbformat": 4,
  "nbformat_minor": 0,
  "metadata": {
    "kernelspec": {
      "display_name": "Python 3",
      "language": "python",
      "name": "python3"
    },
    "language_info": {
      "codemirror_mode": {
        "name": "ipython",
        "version": 3
      },
      "file_extension": ".py",
      "mimetype": "text/x-python",
      "name": "python",
      "nbconvert_exporter": "python",
      "pygments_lexer": "ipython3",
      "version": "3.7.3"
    },
    "colab": {
      "name": "Bản sao của huong-dan-gia-dinh-ANOVA.ipynb",
      "provenance": [],
      "collapsed_sections": [],
      "include_colab_link": true
    }
  },
  "cells": [
    {
      "cell_type": "markdown",
      "metadata": {
        "id": "view-in-github",
        "colab_type": "text"
      },
      "source": [
        "<a href=\"https://colab.research.google.com/github/levantanfc11/data-analysis/blob/main/huong_dan_gia_dinh_ANOVA.ipynb\" target=\"_parent\"><img src=\"https://colab.research.google.com/assets/colab-badge.svg\" alt=\"Open In Colab\"/></a>"
      ]
    },
    {
      "cell_type": "markdown",
      "metadata": {
        "id": "Ctg_oeepPA14"
      },
      "source": [
        "PHÂN TÍCH ANOVA MỘT CHIỀU\n",
        "\n",
        "Phân tích ANOVA chấp nhận các giả định sau:\n",
        "\n",
        "(1) Tất cả các nhóm đều độc lập với nhau\n",
        "\n",
        "(2) Dữ liệu của mỗi nhóm đều tuân theo phân phối chuẩn. Tính chất này có thể được kiểm định bằng phương pháp Shapiro-Wilks.\n",
        "\n",
        "(3) Phương sai (variance) của các nhóm bằng nhau. Tính chất này có thể được kiểm định bằng phương pháp kiểm định Bartlett hay Levene.\n",
        "\n",
        "Nếu dữ liệu hiện có thỏa mãn các tính chất trên thì chúng ta mới tiến hành kiểm định ANOVA. Do vậy trước khi tiến hành kiểm định ANOVA, chúng ta cần thực hiện kiểm tra tập dữ liệu cần thỏa mãn 3 tính chất trên.\n",
        "    "
      ]
    },
    {
      "cell_type": "code",
      "metadata": {
        "id": "U1F4diAATjyf"
      },
      "source": [
        "import numpy as np\n",
        "from scipy import stats\n",
        "from scipy.stats import shapiro\n",
        "import scipy.stats as stats\n"
      ],
      "execution_count": 21,
      "outputs": []
    },
    {
      "cell_type": "code",
      "metadata": {
        "id": "BB8xP7nKPA2b",
        "colab": {
          "base_uri": "https://localhost:8080/"
        },
        "outputId": "925e2512-cf22-4dee-9ed3-0ddbf3d4ca0e"
      },
      "source": [
        "#Bước 1: Hãy tạo một tập dữ liệu mẫu sample_1 với kích thước 100 tuân theo phân phối chuẩn\n",
        "sample_1 = np.random.normal(loc = 5.5, scale = 2.7, size = 100)\n",
        "print(sample_1)"
      ],
      "execution_count": 4,
      "outputs": [
        {
          "output_type": "stream",
          "text": [
            "[ 2.93179426  2.01936241  7.83493553  1.55468665  6.78895252  2.47975681\n",
            "  2.34458601  1.84341025  5.66169229  4.7811142   4.46068823 12.17379805\n",
            "  4.49260218  1.52833653  7.20410898  5.86738719  7.33140088  9.4620346\n",
            "  7.19048117  6.45772169  0.77793298  2.42780503  1.37706524  6.83664429\n",
            "  6.41441968  5.95831036  3.42823396  7.14200113  6.18807049  3.46695801\n",
            "  6.41205999  8.14433028  8.63479251  6.69216719  4.54357309  7.57558452\n",
            "  6.12177008  4.74444695  7.14649455  7.44843432  4.64242722  7.99075188\n",
            "  9.62903381 -0.93634117  5.17162904  7.43539197  1.58676132  5.94159717\n",
            "  3.15595484  8.5525596   7.06806685  8.34753297  8.19949317  5.4997374\n",
            "  2.88179364  5.1807286   8.09844511  4.05542682 -0.03264516  6.72305928\n",
            "  8.24768515  4.44265225  0.70006372  5.08735634  4.54596747  7.46707124\n",
            "  4.07267262  8.61591468  5.89734985 11.61980374  7.31027681  6.40361409\n",
            "  7.05311617 10.05807438  7.31507012  9.26906094  7.56003591  5.07038209\n",
            "  1.12757716  5.24778566  8.34435738  4.35483612  5.30693731  8.13465628\n",
            "  4.88301557  5.55880382  9.46953186  5.32971137  1.9131969   6.78920889\n",
            "  5.20173157  3.58058765  4.44401491  2.93569381  6.9172194   6.18095878\n",
            "  5.16352614  3.67527677  5.2638513   3.38320049]\n"
          ],
          "name": "stdout"
        }
      ]
    },
    {
      "cell_type": "code",
      "metadata": {
        "id": "O5fksdYYPA2g",
        "colab": {
          "base_uri": "https://localhost:8080/"
        },
        "outputId": "cccf9dec-7f7c-42c7-f154-1659a93b8d75"
      },
      "source": [
        "#Bước 2: hãy tạo tập dữ liệu mẫu sample_2 với kích thước 100 tuân theo phân phối Poisson\n",
        "sample_2 = stats.poisson.rvs(loc=18,\n",
        "                              mu=30,\n",
        "                              size=100)\n",
        "print(sample_2[:10])"
      ],
      "execution_count": 7,
      "outputs": [
        {
          "output_type": "stream",
          "text": [
            "[53 45 56 44 47 44 43 42 50 51]\n"
          ],
          "name": "stdout"
        }
      ]
    },
    {
      "cell_type": "markdown",
      "metadata": {
        "id": "7hPm1POdPA2i"
      },
      "source": [
        "Hãy tham khảo các hướng dẫn sau để kiểm định tính chất thứ 2 bằng phương pháp Shapiro-Wilks đối với sample_1 và sample_2\n",
        "\n",
        "(1) [Tài liệu tham khảo scipy](https://docs.scipy.org/doc/scipy/reference/generated/scipy.stats.shapiro.html)\n",
        "\n",
        "(2) [Hướng dẫn cụ thể của statology](https://www.statology.org/shapiro-wilk-test-python/)"
      ]
    },
    {
      "cell_type": "code",
      "metadata": {
        "id": "9Ik1TOqePA2k",
        "colab": {
          "base_uri": "https://localhost:8080/"
        },
        "outputId": "62cf39d1-eb09-4b1b-a969-8e8b76e687b6"
      },
      "source": [
        "shapiro_test_1 = stats.shapiro(sample_1)\n",
        "print(shapiro_test_1)\n",
        "shapiro_test_2 = stats.shapiro(sample_2)\n",
        "print(shapiro_test_2)"
      ],
      "execution_count": 15,
      "outputs": [
        {
          "output_type": "stream",
          "text": [
            "(0.9896140694618225, 0.6334595680236816)\n",
            "(0.9780946969985962, 0.09434018284082413)\n"
          ],
          "name": "stdout"
        }
      ]
    },
    {
      "cell_type": "markdown",
      "metadata": {
        "id": "ZQd7GtcVPA2m"
      },
      "source": [
        "Hãy tham khảo các hướng dẫn sau để kiểm định tính chất thứ 3 bằng kiểm định Bartlett hoặc kiểm định Levene\n",
        "\n",
        "(1) [Hướng dẫn tổng quát](https://www.marsja.se/levenes-bartletts-test-of-equality-homogeneity-of-variance-in-python/)\n",
        "\n",
        "(2) [Hướng dẫn ở stackoverflow](https://stackoverflow.com/questions/36141254/how-to-test-for-homoscedasticity-having-the-same-population-variance-in-python)\n",
        "\n",
        "(3) Sử dụng bài giảng về kiểm định Bartlett và Levene ở buổi trước"
      ]
    },
    {
      "cell_type": "code",
      "metadata": {
        "id": "sudFexcAPA2n",
        "colab": {
          "base_uri": "https://localhost:8080/"
        },
        "outputId": "987863f2-b320-425a-a4dc-45b8eb80cae8"
      },
      "source": [
        "#Code kiểm định tính đồng nhất về phương sai của các nhóm\n",
        "#Kiểm định Levene\n",
        "dff = stats.levene(sample_1, sample_2, center='median') #'median' được khuyến nghị dùng cho các phân phối lệch. \n",
        "print(dff)\n",
        "dff_1 = stats.levene(sample_1, sample_2, center='mean') #'mean' được  khuyến nghị cho các phân phối đối xứng, có đuôi vừa phải.\n",
        "print(dff_1)\n",
        "dff_2 = stats.levene(sample_1, sample_2, center='trimmed') #được  khuyến nghị cho các bản phân phối có nhiều đuôi.\n",
        "print(dff_2)"
      ],
      "execution_count": 26,
      "outputs": [
        {
          "output_type": "stream",
          "text": [
            "LeveneResult(statistic=43.3817170649833, pvalue=3.967101731446208e-10)\n",
            "LeveneResult(statistic=49.790055621714416, pvalue=2.8108203357319833e-11)\n",
            "LeveneResult(statistic=53.821402882453434, pvalue=7.486677214822199e-12)\n"
          ],
          "name": "stdout"
        }
      ]
    },
    {
      "cell_type": "code",
      "metadata": {
        "id": "DAnaDf_EPA2p",
        "colab": {
          "base_uri": "https://localhost:8080/"
        },
        "outputId": "b2577696-8540-424b-f31a-084a78b13f1e"
      },
      "source": [
        "#Code kiểm định tính đồng nhất về phương sai của các nhóm\n",
        "#Kiểm định Bartlett\n",
        "dff_3 = stats.bartlett(sample_1, sample_2)\n",
        "print(dff_3)"
      ],
      "execution_count": 28,
      "outputs": [
        {
          "output_type": "stream",
          "text": [
            "BartlettResult(statistic=57.07050853353207, pvalue=4.204637802523868e-14)\n"
          ],
          "name": "stdout"
        }
      ]
    }
  ]
}