{
  "nbformat": 4,
  "nbformat_minor": 0,
  "metadata": {
    "kernelspec": {
      "display_name": "Python 3",
      "language": "python",
      "name": "python3"
    },
    "language_info": {
      "codemirror_mode": {
        "name": "ipython",
        "version": 3
      },
      "file_extension": ".py",
      "mimetype": "text/x-python",
      "name": "python",
      "nbconvert_exporter": "python",
      "pygments_lexer": "ipython3",
      "version": "3.7.3"
    },
    "colab": {
      "name": "Bản sao của bai-tap-pandas-series.ipynb",
      "provenance": [],
      "collapsed_sections": [],
      "include_colab_link": true
    }
  },
  "cells": [
    {
      "cell_type": "markdown",
      "metadata": {
        "id": "view-in-github",
        "colab_type": "text"
      },
      "source": [
        "<a href=\"https://colab.research.google.com/github/levantanfc11/data-analysis/blob/main/bai_tap_pandas_series.ipynb\" target=\"_parent\"><img src=\"https://colab.research.google.com/assets/colab-badge.svg\" alt=\"Open In Colab\"/></a>"
      ]
    },
    {
      "cell_type": "markdown",
      "metadata": {
        "id": "BIofJCk3iGPT"
      },
      "source": [
        "Câu 1: Hãy tạo 1 đối tượng kiểu Series có tối thiểu 10 phần tử (kiểu số) với giá trị tùy ý thích của bạn. \n",
        "       In giá trị của Series đó ra màn hình"
      ]
    },
    {
      "cell_type": "code",
      "metadata": {
        "colab": {
          "base_uri": "https://localhost:8080/"
        },
        "id": "UVji_pd5iGPX",
        "outputId": "5d3a2d5e-bbfd-44a8-9bd3-eb0b58f8a0fd"
      },
      "source": [
        "import pandas as pd\r\n",
        "import numpy as np\r\n",
        "ex1 = pd.Series([1, 4, 7, 9, 10, 12, 15, 16, 17, 18])\r\n",
        "ex1"
      ],
      "execution_count": 2,
      "outputs": [
        {
          "output_type": "execute_result",
          "data": {
            "text/plain": [
              "0     1\n",
              "1     4\n",
              "2     7\n",
              "3     9\n",
              "4    10\n",
              "5    12\n",
              "6    15\n",
              "7    16\n",
              "8    17\n",
              "9    18\n",
              "dtype: int64"
            ]
          },
          "metadata": {
            "tags": []
          },
          "execution_count": 2
        }
      ]
    },
    {
      "cell_type": "markdown",
      "metadata": {
        "id": "jPFaEU2TiGPY"
      },
      "source": [
        "Câu 2: Hãy tạo 1 đối tượng kiểu Series với giá trị khởi tạo hình thành từ dữ liệu kiểu Dictionary. In kết quả ra màn hình"
      ]
    },
    {
      "cell_type": "code",
      "metadata": {
        "colab": {
          "base_uri": "https://localhost:8080/"
        },
        "id": "-bKWljQ2iGPY",
        "outputId": "fc2766a0-18b3-4936-c525-6c063fd4eb91"
      },
      "source": [
        "ex2 = pd.Series({'Tan' : 18,'Neymar' : 28,'Ronalno' : 36,'Messi' : 33,'Kaka' : 38,'Beckham' : 45})\r\n",
        "ex2"
      ],
      "execution_count": null,
      "outputs": [
        {
          "output_type": "execute_result",
          "data": {
            "text/plain": [
              "Tan        18\n",
              "Neymar     28\n",
              "Ronalno    36\n",
              "Messi      33\n",
              "Kaka       38\n",
              "Beckham    45\n",
              "dtype: int64"
            ]
          },
          "metadata": {
            "tags": []
          },
          "execution_count": 18
        }
      ]
    },
    {
      "cell_type": "markdown",
      "metadata": {
        "id": "Q4OWWQdeiGPY"
      },
      "source": [
        "Câu 3: Sử dụng series ở câu 1, hãy thay đổi giá trị của cột index từ kiểu số theo kiểu ký tự với giá trị do bạn tự xác định."
      ]
    },
    {
      "cell_type": "code",
      "metadata": {
        "colab": {
          "base_uri": "https://localhost:8080/"
        },
        "id": "7zTR3LrSiGPZ",
        "outputId": "a52e7945-32a3-4de6-a683-9724eacda7ed"
      },
      "source": [
        "ex1 = pd.Series([1, 4, 7, 9, 10, 12, 15, 16, 17, 18], index=['Atan', 'Btan', 'C', 'Dtan', 'E', 'Ftan', 'Gt', 'Htan', 'K', 'L'])\r\n",
        "ex1"
      ],
      "execution_count": null,
      "outputs": [
        {
          "output_type": "execute_result",
          "data": {
            "text/plain": [
              "Atan     1\n",
              "Btan     4\n",
              "C        7\n",
              "Dtan     9\n",
              "E       10\n",
              "Ftan    12\n",
              "Gt      15\n",
              "Htan    16\n",
              "K       17\n",
              "L       18\n",
              "dtype: int64"
            ]
          },
          "metadata": {
            "tags": []
          },
          "execution_count": 45
        }
      ]
    },
    {
      "cell_type": "markdown",
      "metadata": {
        "id": "CkHW13d9iGPZ"
      },
      "source": [
        "Câu 4: Sử dụng series ở câu 2, hãy truy cập đến phần tử thứ 5 và in ra màn hình"
      ]
    },
    {
      "cell_type": "code",
      "metadata": {
        "colab": {
          "base_uri": "https://localhost:8080/"
        },
        "id": "Ir0Y0UWIiGPZ",
        "outputId": "3eccff29-6df9-420e-e9cf-6537ffd8be39"
      },
      "source": [
        "ex2 = pd.Series({'Tan' : 18,'Neymar' : 28,'Ronalno' : 36,'Messi' : 33,'Kaka' : 38,'Beckham' : 45})\r\n",
        "print(ex2[4])"
      ],
      "execution_count": null,
      "outputs": [
        {
          "output_type": "stream",
          "text": [
            "38\n"
          ],
          "name": "stdout"
        }
      ]
    },
    {
      "cell_type": "markdown",
      "metadata": {
        "id": "t9fVwveaiGPZ"
      },
      "source": [
        "Câu 5: Sử dụng series ở câu 3, hãy truy cập đến 1 phần tử dựa theo chỉ số kiểu ký tự do bạn lựa chọn và in ra màn hình"
      ]
    },
    {
      "cell_type": "code",
      "metadata": {
        "colab": {
          "base_uri": "https://localhost:8080/"
        },
        "id": "I6RN24EjiGPa",
        "outputId": "31c9aefc-0e6a-42d2-a6a9-e4dde13ef60d"
      },
      "source": [
        "ex1 = pd.Series([1, 4, 7, 9, 10, 12, 15, 16, 17, 18], index=['Atan', 'Btan', 'C', 'Dtan', 'E', 'Ftan', 'Gt', 'Htan', 'K', 'L'])\r\n",
        "print(ex1['Btan'])"
      ],
      "execution_count": null,
      "outputs": [
        {
          "output_type": "stream",
          "text": [
            "4\n"
          ],
          "name": "stdout"
        }
      ]
    },
    {
      "cell_type": "markdown",
      "metadata": {
        "id": "JOCgeF0liGPa"
      },
      "source": [
        "Câu 6: Sử dụng series ở câu 3, hãy tìm ra tính chất đặc thù trong các chỉ số kiểu kí tự, thực hiện vòng lặp for duyệt trên các chỉ mục kiểu kí tự này để lọc ra những phần tử thỏa mãn điều kiện và in ra màn hình"
      ]
    },
    {
      "cell_type": "code",
      "metadata": {
        "colab": {
          "base_uri": "https://localhost:8080/"
        },
        "id": "JaI5bA5hiGPa",
        "outputId": "6ef60ef0-c8b3-4412-b671-97ba42255a21"
      },
      "source": [
        "ex1[[name.endswith('tan') for name in ex1.index]]"
      ],
      "execution_count": null,
      "outputs": [
        {
          "output_type": "execute_result",
          "data": {
            "text/plain": [
              "Atan     1\n",
              "Btan     4\n",
              "Dtan     9\n",
              "Ftan    12\n",
              "Htan    16\n",
              "dtype: int64"
            ]
          },
          "metadata": {
            "tags": []
          },
          "execution_count": 52
        }
      ]
    },
    {
      "cell_type": "markdown",
      "metadata": {
        "id": "IRLD8ryIiGPa"
      },
      "source": [
        "Câu 7: Sử dụng series ở câu 1, hãy đổi tên cột index thành 'STT' và đặt tên cho series là 'Gia_tri'. In kết quả ra màn hình "
      ]
    },
    {
      "cell_type": "code",
      "metadata": {
        "id": "AFmMBswOiGPb",
        "colab": {
          "base_uri": "https://localhost:8080/"
        },
        "outputId": "466b34e8-d347-4392-f307-9b3ddef6a86c"
      },
      "source": [
        "ex1 = pd.Series([1, 4, 7, 9, 10, 12, 15, 16, 17, 18], index=['Atan', 'Btan', 'C', 'Dtan', 'E', 'Ftan', 'Gt', 'Htan', 'K', 'L'])\r\n",
        "ex1.name = 'Gia_tri'\r\n",
        "ex1.index.name = 'STT'\r\n",
        "ex1"
      ],
      "execution_count": 9,
      "outputs": [
        {
          "output_type": "execute_result",
          "data": {
            "text/plain": [
              "STT\n",
              "Atan     1\n",
              "Btan     4\n",
              "C        7\n",
              "Dtan     9\n",
              "E       10\n",
              "Ftan    12\n",
              "Gt      15\n",
              "Htan    16\n",
              "K       17\n",
              "L       18\n",
              "Name: Gia_tri, dtype: int64"
            ]
          },
          "metadata": {
            "tags": []
          },
          "execution_count": 9
        }
      ]
    },
    {
      "cell_type": "markdown",
      "metadata": {
        "id": "ezb28Fk6iGPb"
      },
      "source": [
        "Câu 8: Hãy áp dụng hàm logarith của gói numpy với series ở câu 1 và in kết quả ra màn hình"
      ]
    },
    {
      "cell_type": "code",
      "metadata": {
        "id": "owD_k4VEiGPb",
        "colab": {
          "base_uri": "https://localhost:8080/"
        },
        "outputId": "eeda1808-dd77-4542-dac0-758cc03b67c9"
      },
      "source": [
        "np.log(ex1)"
      ],
      "execution_count": 10,
      "outputs": [
        {
          "output_type": "execute_result",
          "data": {
            "text/plain": [
              "STT\n",
              "Atan    0.000000\n",
              "Btan    1.386294\n",
              "C       1.945910\n",
              "Dtan    2.197225\n",
              "E       2.302585\n",
              "Ftan    2.484907\n",
              "Gt      2.708050\n",
              "Htan    2.772589\n",
              "K       2.833213\n",
              "L       2.890372\n",
              "Name: Gia_tri, dtype: float64"
            ]
          },
          "metadata": {
            "tags": []
          },
          "execution_count": 10
        }
      ]
    },
    {
      "cell_type": "markdown",
      "metadata": {
        "id": "ZgNqO578iGPb"
      },
      "source": [
        "Câu 9: Lọc các giá trị của series 1 > 15 và in ra màn hình"
      ]
    },
    {
      "cell_type": "code",
      "metadata": {
        "id": "e8Fw2WvKiGPb",
        "colab": {
          "base_uri": "https://localhost:8080/"
        },
        "outputId": "6b4fdb68-e9ab-410e-d6aa-29b0200f7528"
      },
      "source": [
        "ex1[ex1>15]"
      ],
      "execution_count": 11,
      "outputs": [
        {
          "output_type": "execute_result",
          "data": {
            "text/plain": [
              "STT\n",
              "Htan    16\n",
              "K       17\n",
              "L       18\n",
              "Name: Gia_tri, dtype: int64"
            ]
          },
          "metadata": {
            "tags": []
          },
          "execution_count": 11
        }
      ]
    }
  ]
}